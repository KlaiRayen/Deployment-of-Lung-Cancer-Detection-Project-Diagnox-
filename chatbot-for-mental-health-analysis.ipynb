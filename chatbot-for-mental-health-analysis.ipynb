{
 "cells": [
  {
   "cell_type": "code",
   "execution_count": 1,
   "metadata": {
    "_cell_guid": "b1076dfc-b9ad-4769-8c92-a6c4dae69d19",
    "_uuid": "8f2839f25d086af736a60e9eeb907d3b93b6e0e5",
    "execution": {
     "iopub.execute_input": "2023-01-19T11:57:05.236823Z",
     "iopub.status.busy": "2023-01-19T11:57:05.236236Z",
     "iopub.status.idle": "2023-01-19T11:57:05.275199Z",
     "shell.execute_reply": "2023-01-19T11:57:05.274084Z",
     "shell.execute_reply.started": "2023-01-19T11:57:05.236641Z"
    }
   },
   "outputs": [],
   "source": [
    "import numpy as np # linear algebra\n",
    "import pandas as pd \n",
    "import os\n",
    "\n",
    "\n",
    "for dirname, _, filenames in os.walk('/kaggle/input'):\n",
    "    for filename in filenames:\n",
    "        print(os.path.join(dirname, filename))"
   ]
  },
  {
   "cell_type": "markdown",
   "metadata": {},
   "source": [
    "# Data Reading"
   ]
  },
  {
   "cell_type": "markdown",
   "metadata": {},
   "source": [
    "Data is in json format; so it's better to convert it to a Pandas data frame format."
   ]
  },
  {
   "cell_type": "code",
   "execution_count": 2,
   "metadata": {
    "execution": {
     "iopub.execute_input": "2023-01-19T11:57:07.528446Z",
     "iopub.status.busy": "2023-01-19T11:57:07.526722Z",
     "iopub.status.idle": "2023-01-19T11:57:07.585280Z",
     "shell.execute_reply": "2023-01-19T11:57:07.583780Z",
     "shell.execute_reply.started": "2023-01-19T11:57:07.528358Z"
    }
   },
   "outputs": [
    {
     "data": {
      "text/html": [
       "<div>\n",
       "<style scoped>\n",
       "    .dataframe tbody tr th:only-of-type {\n",
       "        vertical-align: middle;\n",
       "    }\n",
       "\n",
       "    .dataframe tbody tr th {\n",
       "        vertical-align: top;\n",
       "    }\n",
       "\n",
       "    .dataframe thead th {\n",
       "        text-align: right;\n",
       "    }\n",
       "</style>\n",
       "<table border=\"1\" class=\"dataframe\">\n",
       "  <thead>\n",
       "    <tr style=\"text-align: right;\">\n",
       "      <th></th>\n",
       "      <th>tag</th>\n",
       "      <th>patterns</th>\n",
       "      <th>responses</th>\n",
       "    </tr>\n",
       "  </thead>\n",
       "  <tbody>\n",
       "    <tr>\n",
       "      <th>0</th>\n",
       "      <td>greeting</td>\n",
       "      <td>[Hi, Hey, Is anyone there?, Hi there, Hello, H...</td>\n",
       "      <td>[Hello there. Tell me how are you feeling toda...</td>\n",
       "    </tr>\n",
       "    <tr>\n",
       "      <th>1</th>\n",
       "      <td>morning</td>\n",
       "      <td>[Good morning]</td>\n",
       "      <td>[Good morning. I hope you had a good night's s...</td>\n",
       "    </tr>\n",
       "    <tr>\n",
       "      <th>2</th>\n",
       "      <td>afternoon</td>\n",
       "      <td>[Good afternoon]</td>\n",
       "      <td>[Good afternoon. How is your day going?]</td>\n",
       "    </tr>\n",
       "    <tr>\n",
       "      <th>3</th>\n",
       "      <td>how-are-you</td>\n",
       "      <td>[How are you?, How's it going?, How do you do?]</td>\n",
       "      <td>[Great to chat with you!, I'm doing well, than...</td>\n",
       "    </tr>\n",
       "    <tr>\n",
       "      <th>4</th>\n",
       "      <td>evening</td>\n",
       "      <td>[Good evening]</td>\n",
       "      <td>[Good evening. How has your day been?]</td>\n",
       "    </tr>\n",
       "    <tr>\n",
       "      <th>...</th>\n",
       "      <td>...</td>\n",
       "      <td>...</td>\n",
       "      <td>...</td>\n",
       "    </tr>\n",
       "    <tr>\n",
       "      <th>81</th>\n",
       "      <td>fact-28</td>\n",
       "      <td>[What do I do if I'm worried about my mental h...</td>\n",
       "      <td>[The most important thing is to talk to someon...</td>\n",
       "    </tr>\n",
       "    <tr>\n",
       "      <th>82</th>\n",
       "      <td>fact-29</td>\n",
       "      <td>[How do I know if I'm unwell?]</td>\n",
       "      <td>[If your beliefs , thoughts , feelings or beha...</td>\n",
       "    </tr>\n",
       "    <tr>\n",
       "      <th>83</th>\n",
       "      <td>fact-30</td>\n",
       "      <td>[How can I maintain social connections? What i...</td>\n",
       "      <td>[A lot of people are alone right now, but we d...</td>\n",
       "    </tr>\n",
       "    <tr>\n",
       "      <th>84</th>\n",
       "      <td>fact-31</td>\n",
       "      <td>[What's the difference between anxiety and str...</td>\n",
       "      <td>[Stress and anxiety are often used interchange...</td>\n",
       "    </tr>\n",
       "    <tr>\n",
       "      <th>85</th>\n",
       "      <td>fact-32</td>\n",
       "      <td>[What's the difference between sadness and dep...</td>\n",
       "      <td>[Sadness is a normal reaction to a loss, disap...</td>\n",
       "    </tr>\n",
       "  </tbody>\n",
       "</table>\n",
       "<p>86 rows × 3 columns</p>\n",
       "</div>"
      ],
      "text/plain": [
       "            tag                                           patterns  \\\n",
       "0      greeting  [Hi, Hey, Is anyone there?, Hi there, Hello, H...   \n",
       "1       morning                                     [Good morning]   \n",
       "2     afternoon                                   [Good afternoon]   \n",
       "3   how-are-you    [How are you?, How's it going?, How do you do?]   \n",
       "4       evening                                     [Good evening]   \n",
       "..          ...                                                ...   \n",
       "81      fact-28  [What do I do if I'm worried about my mental h...   \n",
       "82      fact-29                     [How do I know if I'm unwell?]   \n",
       "83      fact-30  [How can I maintain social connections? What i...   \n",
       "84      fact-31  [What's the difference between anxiety and str...   \n",
       "85      fact-32  [What's the difference between sadness and dep...   \n",
       "\n",
       "                                            responses  \n",
       "0   [Hello there. Tell me how are you feeling toda...  \n",
       "1   [Good morning. I hope you had a good night's s...  \n",
       "2            [Good afternoon. How is your day going?]  \n",
       "3   [Great to chat with you!, I'm doing well, than...  \n",
       "4              [Good evening. How has your day been?]  \n",
       "..                                                ...  \n",
       "81  [The most important thing is to talk to someon...  \n",
       "82  [If your beliefs , thoughts , feelings or beha...  \n",
       "83  [A lot of people are alone right now, but we d...  \n",
       "84  [Stress and anxiety are often used interchange...  \n",
       "85  [Sadness is a normal reaction to a loss, disap...  \n",
       "\n",
       "[86 rows x 3 columns]"
      ]
     },
     "execution_count": 2,
     "metadata": {},
     "output_type": "execute_result"
    }
   ],
   "source": [
    "import json\n",
    "\n",
    "with open(r'C:\\Users\\BELHASSEN\\Desktop\\dataa1\\intents.json', 'r') as f:\n",
    "    data = json.load(f)\n",
    "\n",
    "df = pd.DataFrame(data['intents'])\n",
    "df"
   ]
  },
  {
   "cell_type": "markdown",
   "metadata": {},
   "source": [
    "Each tag contains several questions(patterns) and several answers(responses); Now I want to seperate these patterns based on their tags and responses and finally convert them to a DataFrame."
   ]
  },
  {
   "cell_type": "code",
   "execution_count": 3,
   "metadata": {
    "execution": {
     "iopub.execute_input": "2023-01-19T11:57:10.165233Z",
     "iopub.status.busy": "2023-01-19T11:57:10.164689Z",
     "iopub.status.idle": "2023-01-19T11:57:10.296121Z",
     "shell.execute_reply": "2023-01-19T11:57:10.294950Z",
     "shell.execute_reply.started": "2023-01-19T11:57:10.165190Z"
    }
   },
   "outputs": [
    {
     "data": {
      "text/html": [
       "<div>\n",
       "<style scoped>\n",
       "    .dataframe tbody tr th:only-of-type {\n",
       "        vertical-align: middle;\n",
       "    }\n",
       "\n",
       "    .dataframe tbody tr th {\n",
       "        vertical-align: top;\n",
       "    }\n",
       "\n",
       "    .dataframe thead th {\n",
       "        text-align: right;\n",
       "    }\n",
       "</style>\n",
       "<table border=\"1\" class=\"dataframe\">\n",
       "  <thead>\n",
       "    <tr style=\"text-align: right;\">\n",
       "      <th></th>\n",
       "      <th>tag</th>\n",
       "      <th>patterns</th>\n",
       "      <th>responses</th>\n",
       "    </tr>\n",
       "  </thead>\n",
       "  <tbody>\n",
       "    <tr>\n",
       "      <th>0</th>\n",
       "      <td>greeting</td>\n",
       "      <td>Hi</td>\n",
       "      <td>[Hello there. Tell me how are you feeling toda...</td>\n",
       "    </tr>\n",
       "    <tr>\n",
       "      <th>1</th>\n",
       "      <td>greeting</td>\n",
       "      <td>Hey</td>\n",
       "      <td>[Hello there. Tell me how are you feeling toda...</td>\n",
       "    </tr>\n",
       "    <tr>\n",
       "      <th>2</th>\n",
       "      <td>greeting</td>\n",
       "      <td>Is anyone there?</td>\n",
       "      <td>[Hello there. Tell me how are you feeling toda...</td>\n",
       "    </tr>\n",
       "    <tr>\n",
       "      <th>3</th>\n",
       "      <td>greeting</td>\n",
       "      <td>Hi there</td>\n",
       "      <td>[Hello there. Tell me how are you feeling toda...</td>\n",
       "    </tr>\n",
       "    <tr>\n",
       "      <th>4</th>\n",
       "      <td>greeting</td>\n",
       "      <td>Hello</td>\n",
       "      <td>[Hello there. Tell me how are you feeling toda...</td>\n",
       "    </tr>\n",
       "    <tr>\n",
       "      <th>...</th>\n",
       "      <td>...</td>\n",
       "      <td>...</td>\n",
       "      <td>...</td>\n",
       "    </tr>\n",
       "    <tr>\n",
       "      <th>300</th>\n",
       "      <td>fact-29</td>\n",
       "      <td>How do I know if I'm unwell?</td>\n",
       "      <td>[If your beliefs , thoughts , feelings or beha...</td>\n",
       "    </tr>\n",
       "    <tr>\n",
       "      <th>301</th>\n",
       "      <td>fact-30</td>\n",
       "      <td>How can I maintain social connections? What if...</td>\n",
       "      <td>[A lot of people are alone right now, but we d...</td>\n",
       "    </tr>\n",
       "    <tr>\n",
       "      <th>302</th>\n",
       "      <td>fact-31</td>\n",
       "      <td>What's the difference between anxiety and stress?</td>\n",
       "      <td>[Stress and anxiety are often used interchange...</td>\n",
       "    </tr>\n",
       "    <tr>\n",
       "      <th>303</th>\n",
       "      <td>fact-32</td>\n",
       "      <td>What's the difference between sadness and depr...</td>\n",
       "      <td>[Sadness is a normal reaction to a loss, disap...</td>\n",
       "    </tr>\n",
       "    <tr>\n",
       "      <th>304</th>\n",
       "      <td>fact-32</td>\n",
       "      <td>difference between sadness and depression</td>\n",
       "      <td>[Sadness is a normal reaction to a loss, disap...</td>\n",
       "    </tr>\n",
       "  </tbody>\n",
       "</table>\n",
       "<p>305 rows × 3 columns</p>\n",
       "</div>"
      ],
      "text/plain": [
       "          tag                                           patterns  \\\n",
       "0    greeting                                                 Hi   \n",
       "1    greeting                                                Hey   \n",
       "2    greeting                                   Is anyone there?   \n",
       "3    greeting                                           Hi there   \n",
       "4    greeting                                              Hello   \n",
       "..        ...                                                ...   \n",
       "300   fact-29                       How do I know if I'm unwell?   \n",
       "301   fact-30  How can I maintain social connections? What if...   \n",
       "302   fact-31  What's the difference between anxiety and stress?   \n",
       "303   fact-32  What's the difference between sadness and depr...   \n",
       "304   fact-32          difference between sadness and depression   \n",
       "\n",
       "                                             responses  \n",
       "0    [Hello there. Tell me how are you feeling toda...  \n",
       "1    [Hello there. Tell me how are you feeling toda...  \n",
       "2    [Hello there. Tell me how are you feeling toda...  \n",
       "3    [Hello there. Tell me how are you feeling toda...  \n",
       "4    [Hello there. Tell me how are you feeling toda...  \n",
       "..                                                 ...  \n",
       "300  [If your beliefs , thoughts , feelings or beha...  \n",
       "301  [A lot of people are alone right now, but we d...  \n",
       "302  [Stress and anxiety are often used interchange...  \n",
       "303  [Sadness is a normal reaction to a loss, disap...  \n",
       "304  [Sadness is a normal reaction to a loss, disap...  \n",
       "\n",
       "[305 rows x 3 columns]"
      ]
     },
     "execution_count": 3,
     "metadata": {},
     "output_type": "execute_result"
    }
   ],
   "source": [
    "dic = {\"tag\":[], \"patterns\":[], \"responses\":[]}\n",
    "for i in range(len(df)):\n",
    "    ptrns = df[df.index == i]['patterns'].values[0]\n",
    "    rspns = df[df.index == i]['responses'].values[0]\n",
    "    tag = df[df.index == i]['tag'].values[0]\n",
    "    for j in range(len(ptrns)):\n",
    "        dic['tag'].append(tag)\n",
    "        dic['patterns'].append(ptrns[j])\n",
    "        dic['responses'].append(rspns)\n",
    "        \n",
    "df = pd.DataFrame.from_dict(dic)\n",
    "df"
   ]
  },
  {
   "cell_type": "code",
   "execution_count": 4,
   "metadata": {
    "execution": {
     "iopub.execute_input": "2023-01-19T14:36:53.365921Z",
     "iopub.status.busy": "2023-01-19T14:36:53.365512Z",
     "iopub.status.idle": "2023-01-19T14:36:53.378062Z",
     "shell.execute_reply": "2023-01-19T14:36:53.377061Z",
     "shell.execute_reply.started": "2023-01-19T14:36:53.365889Z"
    }
   },
   "outputs": [
    {
     "data": {
      "text/plain": [
       "array(['greeting', 'morning', 'afternoon', 'how-are-you', 'evening',\n",
       "       'night', 'goodbye', 'thanks', 'no-response', 'neutral-response',\n",
       "       'about', 'user_age', 'skill', 'creation', 'name', 'help', 'sad',\n",
       "       'stressed', 'worthless', 'depressed', 'happy', 'casual', 'anxious',\n",
       "       'not-talking', 'sleep', 'scared', 'lung_cancer',\n",
       "       'lung_cancer_info', 'death', 'understand', 'done', 'suicide',\n",
       "       'hate-you', 'hate-me', 'default', 'jokes', 'repeat', 'wrong',\n",
       "       'stupid', 'location', 'something-else', 'friends', 'ask',\n",
       "       'problem', 'no-approach', 'learn-more', 'user-agree', 'meditation',\n",
       "       'user-meditation', 'pandora-useful', 'learn-mental-health',\n",
       "       'mental-health-fact', 'fact-1', 'fact-2', 'fact-anxiety',\n",
       "       'fact-depression', 'fact-stress', 'fact-5',\n",
       "       'fact-anxiety-symptoms', 'fact-stress-management', 'fact-6',\n",
       "       'fact-7', 'fact-8', 'fact-9', 'fact-10', 'fact-11', 'fact-12',\n",
       "       'fact-13', 'fact-14', 'fact-15', 'fact-16', 'fact-17', 'fact-19',\n",
       "       'fact-20', 'fact-21', 'fact-22', 'fact-23', 'fact-24', 'fact-25',\n",
       "       'fact-26', 'fact-27', 'fact-28', 'fact-29', 'fact-30', 'fact-31',\n",
       "       'fact-32'], dtype=object)"
      ]
     },
     "execution_count": 4,
     "metadata": {},
     "output_type": "execute_result"
    }
   ],
   "source": [
    "df['tag'].unique()"
   ]
  },
  {
   "cell_type": "markdown",
   "metadata": {},
   "source": [
    "# Data Preprocessing"
   ]
  },
  {
   "cell_type": "code",
   "execution_count": 5,
   "metadata": {
    "execution": {
     "iopub.execute_input": "2023-01-19T11:57:12.222095Z",
     "iopub.status.busy": "2023-01-19T11:57:12.221256Z",
     "iopub.status.idle": "2023-01-19T11:57:20.557860Z",
     "shell.execute_reply": "2023-01-19T11:57:20.556384Z",
     "shell.execute_reply.started": "2023-01-19T11:57:12.222056Z"
    }
   },
   "outputs": [
    {
     "data": {
      "text/plain": [
       "{'num_words': None,\n",
       " 'filters': '!\"#$%&()*+,-./:;<=>?@[\\\\]^_`{|}~\\t\\n',\n",
       " 'lower': True,\n",
       " 'split': ' ',\n",
       " 'char_level': False,\n",
       " 'oov_token': None,\n",
       " 'document_count': 305,\n",
       " 'word_counts': '{\"hi\": 2, \"hey\": 2, \"is\": 21, \"anyone\": 2, \"there\": 5, \"hello\": 1, \"howdy\": 1, \"hola\": 1, \"bonjour\": 1, \"konnichiwa\": 1, \"guten\": 1, \"tag\": 1, \"ola\": 1, \"good\": 5, \"morning\": 1, \"afternoon\": 1, \"how\": 20, \"are\": 25, \"you\": 46, \"how\\'s\": 1, \"it\": 8, \"going\": 4, \"do\": 23, \"evening\": 1, \"night\": 1, \"bye\": 3, \"see\": 2, \"later\": 1, \"goodbye\": 1, \"au\": 1, \"revoir\": 1, \"sayonara\": 1, \"ok\": 4, \"then\": 1, \"fare\": 1, \"thee\": 1, \"well\": 2, \"thanks\": 2, \"thank\": 3, \"that\\'s\": 3, \"helpful\": 1, \"for\": 13, \"the\": 17, \"help\": 11, \"than\": 1, \"very\": 3, \"much\": 4, \"nothing\": 3, \"who\": 7, \"what\": 48, \"tell\": 12, \"me\": 29, \"more\": 7, \"about\": 28, \"yourself\": 3, \"your\": 3, \"name\": 3, \"should\": 6, \"i\": 115, \"call\": 1, \"what\\'s\": 4, \"am\": 20, \"years\": 1, \"old\": 1, \"my\": 15, \"age\": 2, \"can\": 27, \"created\": 2, \"were\": 2, \"made\": 2, \"developed\": 1, \"go\": 4, \"by\": 3, \"i\\'m\": 13, \"could\": 2, \"listen\": 1, \"to\": 33, \"give\": 1, \"a\": 15, \"hand\": 1, \"please\": 2, \"need\": 4, \"support\": 4, \"feeling\": 1, \"lonely\": 4, \"so\": 10, \"feel\": 21, \"down\": 1, \"anexious\": 1, \"sad\": 2, \"empty\": 1, \"don\\'t\": 11, \"have\": 10, \"terrible\": 1, \"sick\": 1, \"stressed\": 5, \"out\": 3, \"stuck\": 1, \"still\": 1, \"burned\": 1, \"worthless\": 1, \"no\": 5, \"one\": 1, \"likes\": 1, \"can\\'t\": 7, \"anything\": 2, \"useless\": 2, \"makes\": 1, \"sense\": 2, \"anymore\": 2, \"take\": 1, \"depressed\": 4, \"think\": 4, \"depression\": 8, \"great\": 1, \"today\": 1, \"happy\": 2, \"cheerful\": 1, \"fine\": 2, \"oh\": 1, \"okay\": 1, \"nice\": 1, \"whatever\": 1, \"k\": 1, \"yeah\": 3, \"yes\": 2, \"not\": 5, \"really\": 2, \"anxious\": 3, \"because\": 4, \"of\": 16, \"experiencing\": 1, \"anxiety\": 8, \"with\": 9, \"want\": 8, \"talk\": 5, \"just\": 3, \"stay\": 1, \"away\": 4, \"bring\": 1, \"myself\": 6, \"open\": 1, \"up\": 2, \"shut\": 1, \"insominia\": 1, \"suffering\": 2, \"from\": 4, \"insomnia\": 1, \"sleep\": 3, \"haven\\'t\": 2, \"slept\": 1, \"last\": 1, \"days\": 2, \"seem\": 1, \"had\": 1, \"proper\": 1, \"past\": 1, \"few\": 1, \"scared\": 3, \"that\": 8, \"sounds\": 3, \"awful\": 1, \"this\": 3, \"way\": 1, \"lung\": 12, \"cancer\": 12, \"doctor\": 1, \"diagnosed\": 2, \"i\\'ve\": 3, \"been\": 1, \"diagnosis\": 1, \"dealing\": 1, \"living\": 1, \"explain\": 2, \"causes\": 3, \"symptoms\": 3, \"mom\": 1, \"died\": 3, \"brother\": 1, \"dad\": 1, \"passed\": 3, \"sister\": 1, \"someone\": 3, \"in\": 4, \"family\": 2, \"friend\": 3, \"understand\": 1, \"you\\'re\": 5, \"some\": 2, \"robot\": 1, \"would\": 5, \"know\": 10, \"possibly\": 1, \"through\": 1, \"nobody\": 1, \"understands\": 1, \"all\": 4, \"say\": 2, \"else\": 5, \"be\": 4, \"kill\": 2, \"thought\": 1, \"killing\": 1, \"die\": 1, \"commit\": 1, \"suicide\": 1, \"hate\": 3, \"like\": 6, \"trust\": 1, \"exams\": 4, \"friends\": 2, \"relationship\": 1, \"boyfriend\": 1, \"girlfriend\": 1, \"money\": 1, \"financial\": 1, \"problems\": 6, \"joke\": 2, \"another\": 2, \"already\": 2, \"told\": 1, \"mentioned\": 1, \"why\": 2, \"repeating\": 1, \"saying\": 1, \"doesn\\'t\": 1, \"make\": 1, \"wrong\": 2, \"response\": 1, \"answer\": 1, \"stupid\": 1, \"crazy\": 1, \"dumb\": 2, \"where\": 11, \"live\": 1, \"location\": 1, \"something\": 3, \"let\\'s\": 1, \"we\": 1, \"any\": 2, \"ask\": 2, \"probably\": 2, \"approaching\": 1, \"prepared\": 1, \"enough\": 1, \"guess\": 2, \"sure\": 1, \"learn\": 7, \"right\": 2, \"deserve\": 1, \"break\": 1, \"absolutely\": 1, \"hmmm\": 1, \"useful\": 2, \"did\": 1, \"said\": 1, \"and\": 5, \"alot\": 1, \"better\": 2, \"now\": 1, \"again\": 1, \"i\\'ll\": 1, \"continue\": 1, \"practicing\": 1, \"meditation\": 1, \"focus\": 1, \"on\": 1, \"control\": 1, \"mental\": 50, \"health\": 32, \"interested\": 1, \"learning\": 1, \"fact\": 2, \"define\": 4, \"important\": 2, \"importance\": 1, \"stress\": 7, \"if\": 8, \"mentally\": 1, \"ill\": 1, \"manage\": 1, \"ways\": 1, \"reduce\": 1, \"management\": 1, \"techniques\": 1, \"therapist\": 2, \"does\": 4, \"therapy\": 5, \"mean\": 1, \"illness\": 17, \"common\": 1, \"percentage\": 1, \"adults\": 1, \"affected\": 2, \"affect\": 2, \"everyone\": 1, \"equally\": 1, \"certain\": 1, \"groups\": 1, \"vulnerable\": 1, \"group\": 2, \"most\": 1, \"warning\": 2, \"signs\": 3, \"recognize\": 1, \"disorders\": 1, \"people\": 1, \"recover\": 2, \"issues\": 2, \"recovery\": 2, \"possible\": 1, \"individuals\": 1, \"chances\": 1, \"seems\": 1, \"struggling\": 1, \"has\": 1, \"problem\": 1, \"worried\": 2, \"showing\": 1, \"find\": 7, \"professional\": 2, \"or\": 1, \"child\": 1, \"locate\": 1, \"provider\": 1, \"treatment\": 7, \"options\": 1, \"treatments\": 1, \"available\": 2, \"treated\": 1, \"become\": 1, \"involved\": 2, \"things\": 1, \"consider\": 1, \"when\": 1, \"starting\": 3, \"questions\": 1, \"before\": 2, \"difference\": 4, \"between\": 5, \"professionals\": 5, \"differ\": 1, \"different\": 2, \"types\": 4, \"distinction\": 1, \"get\": 1, \"seek\": 1, \"assistance\": 1, \"other\": 1, \"avenues\": 1, \"new\": 1, \"medication\": 1, \"prevent\": 2, \"cures\": 1, \"cure\": 1, \"unwell\": 1, \"maintain\": 1, \"social\": 1, \"connections\": 1, \"sadness\": 2}',\n",
       " 'word_docs': '{\"hi\": 2, \"hey\": 2, \"there\": 5, \"is\": 21, \"anyone\": 2, \"hello\": 1, \"howdy\": 1, \"hola\": 1, \"bonjour\": 1, \"konnichiwa\": 1, \"guten\": 1, \"tag\": 1, \"ola\": 1, \"good\": 5, \"morning\": 1, \"afternoon\": 1, \"are\": 25, \"you\": 45, \"how\": 20, \"going\": 4, \"it\": 8, \"how\\'s\": 1, \"do\": 19, \"evening\": 1, \"night\": 1, \"bye\": 3, \"later\": 1, \"see\": 2, \"goodbye\": 1, \"revoir\": 1, \"au\": 1, \"sayonara\": 1, \"ok\": 4, \"then\": 1, \"well\": 2, \"fare\": 1, \"thee\": 1, \"thanks\": 2, \"thank\": 3, \"that\\'s\": 3, \"helpful\": 1, \"help\": 11, \"for\": 13, \"the\": 17, \"much\": 4, \"very\": 3, \"than\": 1, \"nothing\": 3, \"who\": 7, \"what\": 48, \"yourself\": 3, \"tell\": 12, \"more\": 7, \"about\": 28, \"me\": 29, \"name\": 3, \"your\": 3, \"should\": 6, \"call\": 1, \"i\": 106, \"what\\'s\": 4, \"years\": 1, \"am\": 20, \"old\": 1, \"age\": 2, \"my\": 15, \"can\": 27, \"created\": 2, \"made\": 2, \"were\": 2, \"developed\": 1, \"go\": 4, \"by\": 3, \"i\\'m\": 13, \"could\": 2, \"to\": 32, \"listen\": 1, \"hand\": 1, \"a\": 15, \"give\": 1, \"please\": 2, \"support\": 4, \"need\": 4, \"lonely\": 4, \"feeling\": 1, \"so\": 10, \"feel\": 21, \"down\": 1, \"anexious\": 1, \"sad\": 2, \"empty\": 1, \"have\": 10, \"don\\'t\": 11, \"terrible\": 1, \"sick\": 1, \"out\": 3, \"stressed\": 5, \"stuck\": 1, \"still\": 1, \"burned\": 1, \"worthless\": 1, \"no\": 5, \"one\": 1, \"likes\": 1, \"can\\'t\": 7, \"anything\": 2, \"useless\": 2, \"sense\": 2, \"anymore\": 2, \"makes\": 1, \"take\": 1, \"depressed\": 4, \"think\": 4, \"depression\": 8, \"great\": 1, \"today\": 1, \"happy\": 2, \"cheerful\": 1, \"fine\": 2, \"oh\": 1, \"okay\": 1, \"nice\": 1, \"whatever\": 1, \"k\": 1, \"yeah\": 3, \"yes\": 2, \"not\": 5, \"really\": 2, \"anxious\": 3, \"of\": 15, \"because\": 3, \"experiencing\": 1, \"anxiety\": 8, \"with\": 9, \"want\": 8, \"talk\": 5, \"just\": 3, \"away\": 4, \"stay\": 1, \"up\": 2, \"myself\": 6, \"bring\": 1, \"open\": 1, \"shut\": 1, \"insominia\": 1, \"from\": 4, \"suffering\": 2, \"insomnia\": 1, \"sleep\": 3, \"haven\\'t\": 2, \"last\": 1, \"days\": 2, \"slept\": 1, \"seem\": 1, \"had\": 1, \"proper\": 1, \"few\": 1, \"past\": 1, \"scared\": 3, \"that\": 8, \"sounds\": 3, \"awful\": 1, \"this\": 3, \"way\": 1, \"lung\": 12, \"cancer\": 12, \"diagnosed\": 2, \"doctor\": 1, \"been\": 1, \"i\\'ve\": 3, \"diagnosis\": 1, \"dealing\": 1, \"living\": 1, \"explain\": 2, \"causes\": 3, \"symptoms\": 3, \"mom\": 1, \"died\": 3, \"brother\": 1, \"passed\": 3, \"dad\": 1, \"sister\": 1, \"someone\": 3, \"in\": 4, \"family\": 2, \"friend\": 3, \"understand\": 1, \"robot\": 1, \"would\": 5, \"some\": 2, \"know\": 10, \"you\\'re\": 5, \"possibly\": 1, \"through\": 1, \"nobody\": 1, \"understands\": 1, \"all\": 4, \"say\": 2, \"else\": 5, \"be\": 4, \"kill\": 2, \"thought\": 1, \"killing\": 1, \"die\": 1, \"suicide\": 1, \"commit\": 1, \"hate\": 3, \"like\": 6, \"trust\": 1, \"exams\": 4, \"friends\": 2, \"relationship\": 1, \"boyfriend\": 1, \"girlfriend\": 1, \"money\": 1, \"problems\": 6, \"financial\": 1, \"joke\": 2, \"another\": 2, \"told\": 1, \"already\": 2, \"mentioned\": 1, \"repeating\": 1, \"why\": 2, \"saying\": 1, \"doesn\\'t\": 1, \"make\": 1, \"response\": 1, \"wrong\": 2, \"answer\": 1, \"stupid\": 1, \"crazy\": 1, \"dumb\": 2, \"where\": 11, \"live\": 1, \"location\": 1, \"something\": 3, \"let\\'s\": 1, \"we\": 1, \"any\": 2, \"ask\": 2, \"enough\": 1, \"probably\": 2, \"prepared\": 1, \"approaching\": 1, \"guess\": 2, \"sure\": 1, \"learn\": 7, \"break\": 1, \"deserve\": 1, \"right\": 2, \"absolutely\": 1, \"useful\": 2, \"hmmm\": 1, \"did\": 1, \"better\": 2, \"alot\": 1, \"and\": 5, \"said\": 1, \"now\": 1, \"i\\'ll\": 1, \"practicing\": 1, \"continue\": 1, \"on\": 1, \"control\": 1, \"focus\": 1, \"again\": 1, \"meditation\": 1, \"mental\": 50, \"health\": 32, \"learning\": 1, \"interested\": 1, \"fact\": 2, \"define\": 4, \"important\": 2, \"importance\": 1, \"stress\": 7, \"if\": 8, \"mentally\": 1, \"ill\": 1, \"manage\": 1, \"reduce\": 1, \"ways\": 1, \"techniques\": 1, \"management\": 1, \"therapist\": 2, \"does\": 4, \"therapy\": 5, \"illness\": 17, \"mean\": 1, \"common\": 1, \"adults\": 1, \"affected\": 2, \"percentage\": 1, \"affect\": 2, \"equally\": 1, \"everyone\": 1, \"vulnerable\": 1, \"certain\": 1, \"groups\": 1, \"most\": 1, \"group\": 2, \"warning\": 2, \"signs\": 3, \"recognize\": 1, \"disorders\": 1, \"people\": 1, \"recover\": 2, \"issues\": 2, \"recovery\": 2, \"individuals\": 1, \"possible\": 1, \"chances\": 1, \"struggling\": 1, \"seems\": 1, \"problem\": 1, \"has\": 1, \"showing\": 1, \"worried\": 2, \"find\": 7, \"professional\": 2, \"child\": 1, \"or\": 1, \"provider\": 1, \"locate\": 1, \"treatment\": 7, \"options\": 1, \"available\": 2, \"treatments\": 1, \"treated\": 1, \"become\": 1, \"involved\": 2, \"when\": 1, \"starting\": 3, \"consider\": 1, \"things\": 1, \"questions\": 1, \"before\": 2, \"difference\": 4, \"between\": 5, \"professionals\": 5, \"differ\": 1, \"types\": 4, \"different\": 2, \"distinction\": 1, \"get\": 1, \"seek\": 1, \"assistance\": 1, \"avenues\": 1, \"other\": 1, \"medication\": 1, \"new\": 1, \"prevent\": 2, \"cures\": 1, \"cure\": 1, \"unwell\": 1, \"connections\": 1, \"maintain\": 1, \"social\": 1, \"sadness\": 2}',\n",
       " 'index_docs': '{\"112\": 2, \"113\": 2, \"50\": 5, \"12\": 21, \"114\": 2, \"175\": 1, \"176\": 1, \"177\": 1, \"178\": 1, \"179\": 1, \"180\": 1, \"181\": 1, \"182\": 1, \"51\": 5, \"183\": 1, \"184\": 1, \"10\": 25, \"4\": 45, \"14\": 20, \"63\": 4, \"33\": 8, \"185\": 1, \"11\": 19, \"186\": 1, \"187\": 1, \"84\": 3, \"188\": 1, \"115\": 2, \"189\": 1, \"191\": 1, \"190\": 1, \"192\": 1, \"64\": 4, \"193\": 1, \"116\": 2, \"194\": 1, \"195\": 1, \"117\": 2, \"85\": 3, \"86\": 3, \"196\": 1, \"26\": 11, \"21\": 13, \"16\": 17, \"65\": 4, \"87\": 3, \"197\": 1, \"88\": 3, \"39\": 7, \"3\": 48, \"89\": 3, \"23\": 12, \"40\": 7, \"8\": 28, \"7\": 29, \"91\": 3, \"90\": 3, \"46\": 6, \"198\": 1, \"1\": 106, \"66\": 4, \"199\": 1, \"15\": 20, \"200\": 1, \"118\": 2, \"19\": 15, \"9\": 27, \"119\": 2, \"121\": 2, \"120\": 2, \"201\": 1, \"67\": 4, \"92\": 3, \"22\": 13, \"122\": 2, \"5\": 32, \"202\": 1, \"204\": 1, \"20\": 15, \"203\": 1, \"123\": 2, \"69\": 4, \"68\": 4, \"70\": 4, \"205\": 1, \"29\": 10, \"13\": 21, \"206\": 1, \"207\": 1, \"124\": 2, \"208\": 1, \"30\": 10, \"27\": 11, \"209\": 1, \"210\": 1, \"93\": 3, \"52\": 5, \"211\": 1, \"212\": 1, \"213\": 1, \"214\": 1, \"53\": 5, \"215\": 1, \"216\": 1, \"41\": 7, \"125\": 2, \"126\": 2, \"127\": 2, \"128\": 2, \"217\": 1, \"218\": 1, \"71\": 4, \"72\": 4, \"34\": 8, \"219\": 1, \"220\": 1, \"129\": 2, \"221\": 1, \"130\": 2, \"222\": 1, \"223\": 1, \"224\": 1, \"225\": 1, \"226\": 1, \"94\": 3, \"131\": 2, \"54\": 5, \"132\": 2, \"95\": 3, \"18\": 15, \"73\": 3, \"227\": 1, \"35\": 8, \"32\": 9, \"36\": 8, \"55\": 5, \"96\": 3, \"74\": 4, \"228\": 1, \"133\": 2, \"47\": 6, \"229\": 1, \"230\": 1, \"231\": 1, \"232\": 1, \"75\": 4, \"134\": 2, \"233\": 1, \"97\": 3, \"135\": 2, \"235\": 1, \"136\": 2, \"234\": 1, \"236\": 1, \"237\": 1, \"238\": 1, \"240\": 1, \"239\": 1, \"98\": 3, \"37\": 8, \"99\": 3, \"241\": 1, \"100\": 3, \"242\": 1, \"24\": 12, \"25\": 12, \"137\": 2, \"243\": 1, \"244\": 1, \"101\": 3, \"245\": 1, \"246\": 1, \"247\": 1, \"138\": 2, \"102\": 3, \"103\": 3, \"248\": 1, \"104\": 3, \"249\": 1, \"105\": 3, \"250\": 1, \"251\": 1, \"106\": 3, \"76\": 4, \"139\": 2, \"107\": 3, \"252\": 1, \"253\": 1, \"57\": 5, \"140\": 2, \"31\": 10, \"56\": 5, \"254\": 1, \"255\": 1, \"256\": 1, \"257\": 1, \"77\": 4, \"141\": 2, \"58\": 5, \"78\": 4, \"142\": 2, \"258\": 1, \"259\": 1, \"260\": 1, \"262\": 1, \"261\": 1, \"108\": 3, \"48\": 6, \"263\": 1, \"79\": 4, \"143\": 2, \"264\": 1, \"265\": 1, \"266\": 1, \"267\": 1, \"49\": 6, \"268\": 1, \"144\": 2, \"145\": 2, \"269\": 1, \"146\": 2, \"270\": 1, \"271\": 1, \"147\": 2, \"272\": 1, \"273\": 1, \"274\": 1, \"275\": 1, \"148\": 2, \"276\": 1, \"277\": 1, \"278\": 1, \"149\": 2, \"28\": 11, \"279\": 1, \"280\": 1, \"109\": 3, \"281\": 1, \"282\": 1, \"150\": 2, \"151\": 2, \"285\": 1, \"152\": 2, \"284\": 1, \"283\": 1, \"153\": 2, \"286\": 1, \"42\": 7, \"288\": 1, \"287\": 1, \"154\": 2, \"289\": 1, \"155\": 2, \"290\": 1, \"291\": 1, \"156\": 2, \"293\": 1, \"59\": 5, \"292\": 1, \"294\": 1, \"296\": 1, \"298\": 1, \"297\": 1, \"301\": 1, \"302\": 1, \"300\": 1, \"295\": 1, \"299\": 1, \"2\": 50, \"6\": 32, \"304\": 1, \"303\": 1, \"157\": 2, \"80\": 4, \"158\": 2, \"305\": 1, \"43\": 7, \"38\": 8, \"306\": 1, \"307\": 1, \"308\": 1, \"310\": 1, \"309\": 1, \"312\": 1, \"311\": 1, \"159\": 2, \"81\": 4, \"60\": 5, \"17\": 17, \"313\": 1, \"314\": 1, \"316\": 1, \"160\": 2, \"315\": 1, \"161\": 2, \"318\": 1, \"317\": 1, \"321\": 1, \"319\": 1, \"320\": 1, \"322\": 1, \"162\": 2, \"163\": 2, \"110\": 3, \"323\": 1, \"324\": 1, \"325\": 1, \"164\": 2, \"165\": 2, \"166\": 2, \"327\": 1, \"326\": 1, \"328\": 1, \"330\": 1, \"329\": 1, \"332\": 1, \"331\": 1, \"333\": 1, \"167\": 2, \"44\": 7, \"168\": 2, \"335\": 1, \"334\": 1, \"337\": 1, \"336\": 1, \"45\": 7, \"338\": 1, \"169\": 2, \"339\": 1, \"340\": 1, \"341\": 1, \"170\": 2, \"344\": 1, \"111\": 3, \"343\": 1, \"342\": 1, \"345\": 1, \"171\": 2, \"82\": 4, \"61\": 5, \"62\": 5, \"346\": 1, \"83\": 4, \"172\": 2, \"347\": 1, \"348\": 1, \"349\": 1, \"350\": 1, \"352\": 1, \"351\": 1, \"354\": 1, \"353\": 1, \"173\": 2, \"355\": 1, \"356\": 1, \"357\": 1, \"360\": 1, \"358\": 1, \"359\": 1, \"174\": 2}',\n",
       " 'index_word': '{\"1\": \"i\", \"2\": \"mental\", \"3\": \"what\", \"4\": \"you\", \"5\": \"to\", \"6\": \"health\", \"7\": \"me\", \"8\": \"about\", \"9\": \"can\", \"10\": \"are\", \"11\": \"do\", \"12\": \"is\", \"13\": \"feel\", \"14\": \"how\", \"15\": \"am\", \"16\": \"the\", \"17\": \"illness\", \"18\": \"of\", \"19\": \"my\", \"20\": \"a\", \"21\": \"for\", \"22\": \"i\\'m\", \"23\": \"tell\", \"24\": \"lung\", \"25\": \"cancer\", \"26\": \"help\", \"27\": \"don\\'t\", \"28\": \"where\", \"29\": \"so\", \"30\": \"have\", \"31\": \"know\", \"32\": \"with\", \"33\": \"it\", \"34\": \"depression\", \"35\": \"anxiety\", \"36\": \"want\", \"37\": \"that\", \"38\": \"if\", \"39\": \"who\", \"40\": \"more\", \"41\": \"can\\'t\", \"42\": \"learn\", \"43\": \"stress\", \"44\": \"find\", \"45\": \"treatment\", \"46\": \"should\", \"47\": \"myself\", \"48\": \"like\", \"49\": \"problems\", \"50\": \"there\", \"51\": \"good\", \"52\": \"stressed\", \"53\": \"no\", \"54\": \"not\", \"55\": \"talk\", \"56\": \"you\\'re\", \"57\": \"would\", \"58\": \"else\", \"59\": \"and\", \"60\": \"therapy\", \"61\": \"between\", \"62\": \"professionals\", \"63\": \"going\", \"64\": \"ok\", \"65\": \"much\", \"66\": \"what\\'s\", \"67\": \"go\", \"68\": \"need\", \"69\": \"support\", \"70\": \"lonely\", \"71\": \"depressed\", \"72\": \"think\", \"73\": \"because\", \"74\": \"away\", \"75\": \"from\", \"76\": \"in\", \"77\": \"all\", \"78\": \"be\", \"79\": \"exams\", \"80\": \"define\", \"81\": \"does\", \"82\": \"difference\", \"83\": \"types\", \"84\": \"bye\", \"85\": \"thank\", \"86\": \"that\\'s\", \"87\": \"very\", \"88\": \"nothing\", \"89\": \"yourself\", \"90\": \"your\", \"91\": \"name\", \"92\": \"by\", \"93\": \"out\", \"94\": \"yeah\", \"95\": \"anxious\", \"96\": \"just\", \"97\": \"sleep\", \"98\": \"scared\", \"99\": \"sounds\", \"100\": \"this\", \"101\": \"i\\'ve\", \"102\": \"causes\", \"103\": \"symptoms\", \"104\": \"died\", \"105\": \"passed\", \"106\": \"someone\", \"107\": \"friend\", \"108\": \"hate\", \"109\": \"something\", \"110\": \"signs\", \"111\": \"starting\", \"112\": \"hi\", \"113\": \"hey\", \"114\": \"anyone\", \"115\": \"see\", \"116\": \"well\", \"117\": \"thanks\", \"118\": \"age\", \"119\": \"created\", \"120\": \"were\", \"121\": \"made\", \"122\": \"could\", \"123\": \"please\", \"124\": \"sad\", \"125\": \"anything\", \"126\": \"useless\", \"127\": \"sense\", \"128\": \"anymore\", \"129\": \"happy\", \"130\": \"fine\", \"131\": \"yes\", \"132\": \"really\", \"133\": \"up\", \"134\": \"suffering\", \"135\": \"haven\\'t\", \"136\": \"days\", \"137\": \"diagnosed\", \"138\": \"explain\", \"139\": \"family\", \"140\": \"some\", \"141\": \"say\", \"142\": \"kill\", \"143\": \"friends\", \"144\": \"joke\", \"145\": \"another\", \"146\": \"already\", \"147\": \"why\", \"148\": \"wrong\", \"149\": \"dumb\", \"150\": \"any\", \"151\": \"ask\", \"152\": \"probably\", \"153\": \"guess\", \"154\": \"right\", \"155\": \"useful\", \"156\": \"better\", \"157\": \"fact\", \"158\": \"important\", \"159\": \"therapist\", \"160\": \"affected\", \"161\": \"affect\", \"162\": \"group\", \"163\": \"warning\", \"164\": \"recover\", \"165\": \"issues\", \"166\": \"recovery\", \"167\": \"worried\", \"168\": \"professional\", \"169\": \"available\", \"170\": \"involved\", \"171\": \"before\", \"172\": \"different\", \"173\": \"prevent\", \"174\": \"sadness\", \"175\": \"hello\", \"176\": \"howdy\", \"177\": \"hola\", \"178\": \"bonjour\", \"179\": \"konnichiwa\", \"180\": \"guten\", \"181\": \"tag\", \"182\": \"ola\", \"183\": \"morning\", \"184\": \"afternoon\", \"185\": \"how\\'s\", \"186\": \"evening\", \"187\": \"night\", \"188\": \"later\", \"189\": \"goodbye\", \"190\": \"au\", \"191\": \"revoir\", \"192\": \"sayonara\", \"193\": \"then\", \"194\": \"fare\", \"195\": \"thee\", \"196\": \"helpful\", \"197\": \"than\", \"198\": \"call\", \"199\": \"years\", \"200\": \"old\", \"201\": \"developed\", \"202\": \"listen\", \"203\": \"give\", \"204\": \"hand\", \"205\": \"feeling\", \"206\": \"down\", \"207\": \"anexious\", \"208\": \"empty\", \"209\": \"terrible\", \"210\": \"sick\", \"211\": \"stuck\", \"212\": \"still\", \"213\": \"burned\", \"214\": \"worthless\", \"215\": \"one\", \"216\": \"likes\", \"217\": \"makes\", \"218\": \"take\", \"219\": \"great\", \"220\": \"today\", \"221\": \"cheerful\", \"222\": \"oh\", \"223\": \"okay\", \"224\": \"nice\", \"225\": \"whatever\", \"226\": \"k\", \"227\": \"experiencing\", \"228\": \"stay\", \"229\": \"bring\", \"230\": \"open\", \"231\": \"shut\", \"232\": \"insominia\", \"233\": \"insomnia\", \"234\": \"slept\", \"235\": \"last\", \"236\": \"seem\", \"237\": \"had\", \"238\": \"proper\", \"239\": \"past\", \"240\": \"few\", \"241\": \"awful\", \"242\": \"way\", \"243\": \"doctor\", \"244\": \"been\", \"245\": \"diagnosis\", \"246\": \"dealing\", \"247\": \"living\", \"248\": \"mom\", \"249\": \"brother\", \"250\": \"dad\", \"251\": \"sister\", \"252\": \"understand\", \"253\": \"robot\", \"254\": \"possibly\", \"255\": \"through\", \"256\": \"nobody\", \"257\": \"understands\", \"258\": \"thought\", \"259\": \"killing\", \"260\": \"die\", \"261\": \"commit\", \"262\": \"suicide\", \"263\": \"trust\", \"264\": \"relationship\", \"265\": \"boyfriend\", \"266\": \"girlfriend\", \"267\": \"money\", \"268\": \"financial\", \"269\": \"told\", \"270\": \"mentioned\", \"271\": \"repeating\", \"272\": \"saying\", \"273\": \"doesn\\'t\", \"274\": \"make\", \"275\": \"response\", \"276\": \"answer\", \"277\": \"stupid\", \"278\": \"crazy\", \"279\": \"live\", \"280\": \"location\", \"281\": \"let\\'s\", \"282\": \"we\", \"283\": \"approaching\", \"284\": \"prepared\", \"285\": \"enough\", \"286\": \"sure\", \"287\": \"deserve\", \"288\": \"break\", \"289\": \"absolutely\", \"290\": \"hmmm\", \"291\": \"did\", \"292\": \"said\", \"293\": \"alot\", \"294\": \"now\", \"295\": \"again\", \"296\": \"i\\'ll\", \"297\": \"continue\", \"298\": \"practicing\", \"299\": \"meditation\", \"300\": \"focus\", \"301\": \"on\", \"302\": \"control\", \"303\": \"interested\", \"304\": \"learning\", \"305\": \"importance\", \"306\": \"mentally\", \"307\": \"ill\", \"308\": \"manage\", \"309\": \"ways\", \"310\": \"reduce\", \"311\": \"management\", \"312\": \"techniques\", \"313\": \"mean\", \"314\": \"common\", \"315\": \"percentage\", \"316\": \"adults\", \"317\": \"everyone\", \"318\": \"equally\", \"319\": \"certain\", \"320\": \"groups\", \"321\": \"vulnerable\", \"322\": \"most\", \"323\": \"recognize\", \"324\": \"disorders\", \"325\": \"people\", \"326\": \"possible\", \"327\": \"individuals\", \"328\": \"chances\", \"329\": \"seems\", \"330\": \"struggling\", \"331\": \"has\", \"332\": \"problem\", \"333\": \"showing\", \"334\": \"or\", \"335\": \"child\", \"336\": \"locate\", \"337\": \"provider\", \"338\": \"options\", \"339\": \"treatments\", \"340\": \"treated\", \"341\": \"become\", \"342\": \"things\", \"343\": \"consider\", \"344\": \"when\", \"345\": \"questions\", \"346\": \"differ\", \"347\": \"distinction\", \"348\": \"get\", \"349\": \"seek\", \"350\": \"assistance\", \"351\": \"other\", \"352\": \"avenues\", \"353\": \"new\", \"354\": \"medication\", \"355\": \"cures\", \"356\": \"cure\", \"357\": \"unwell\", \"358\": \"maintain\", \"359\": \"social\", \"360\": \"connections\"}',\n",
       " 'word_index': '{\"i\": 1, \"mental\": 2, \"what\": 3, \"you\": 4, \"to\": 5, \"health\": 6, \"me\": 7, \"about\": 8, \"can\": 9, \"are\": 10, \"do\": 11, \"is\": 12, \"feel\": 13, \"how\": 14, \"am\": 15, \"the\": 16, \"illness\": 17, \"of\": 18, \"my\": 19, \"a\": 20, \"for\": 21, \"i\\'m\": 22, \"tell\": 23, \"lung\": 24, \"cancer\": 25, \"help\": 26, \"don\\'t\": 27, \"where\": 28, \"so\": 29, \"have\": 30, \"know\": 31, \"with\": 32, \"it\": 33, \"depression\": 34, \"anxiety\": 35, \"want\": 36, \"that\": 37, \"if\": 38, \"who\": 39, \"more\": 40, \"can\\'t\": 41, \"learn\": 42, \"stress\": 43, \"find\": 44, \"treatment\": 45, \"should\": 46, \"myself\": 47, \"like\": 48, \"problems\": 49, \"there\": 50, \"good\": 51, \"stressed\": 52, \"no\": 53, \"not\": 54, \"talk\": 55, \"you\\'re\": 56, \"would\": 57, \"else\": 58, \"and\": 59, \"therapy\": 60, \"between\": 61, \"professionals\": 62, \"going\": 63, \"ok\": 64, \"much\": 65, \"what\\'s\": 66, \"go\": 67, \"need\": 68, \"support\": 69, \"lonely\": 70, \"depressed\": 71, \"think\": 72, \"because\": 73, \"away\": 74, \"from\": 75, \"in\": 76, \"all\": 77, \"be\": 78, \"exams\": 79, \"define\": 80, \"does\": 81, \"difference\": 82, \"types\": 83, \"bye\": 84, \"thank\": 85, \"that\\'s\": 86, \"very\": 87, \"nothing\": 88, \"yourself\": 89, \"your\": 90, \"name\": 91, \"by\": 92, \"out\": 93, \"yeah\": 94, \"anxious\": 95, \"just\": 96, \"sleep\": 97, \"scared\": 98, \"sounds\": 99, \"this\": 100, \"i\\'ve\": 101, \"causes\": 102, \"symptoms\": 103, \"died\": 104, \"passed\": 105, \"someone\": 106, \"friend\": 107, \"hate\": 108, \"something\": 109, \"signs\": 110, \"starting\": 111, \"hi\": 112, \"hey\": 113, \"anyone\": 114, \"see\": 115, \"well\": 116, \"thanks\": 117, \"age\": 118, \"created\": 119, \"were\": 120, \"made\": 121, \"could\": 122, \"please\": 123, \"sad\": 124, \"anything\": 125, \"useless\": 126, \"sense\": 127, \"anymore\": 128, \"happy\": 129, \"fine\": 130, \"yes\": 131, \"really\": 132, \"up\": 133, \"suffering\": 134, \"haven\\'t\": 135, \"days\": 136, \"diagnosed\": 137, \"explain\": 138, \"family\": 139, \"some\": 140, \"say\": 141, \"kill\": 142, \"friends\": 143, \"joke\": 144, \"another\": 145, \"already\": 146, \"why\": 147, \"wrong\": 148, \"dumb\": 149, \"any\": 150, \"ask\": 151, \"probably\": 152, \"guess\": 153, \"right\": 154, \"useful\": 155, \"better\": 156, \"fact\": 157, \"important\": 158, \"therapist\": 159, \"affected\": 160, \"affect\": 161, \"group\": 162, \"warning\": 163, \"recover\": 164, \"issues\": 165, \"recovery\": 166, \"worried\": 167, \"professional\": 168, \"available\": 169, \"involved\": 170, \"before\": 171, \"different\": 172, \"prevent\": 173, \"sadness\": 174, \"hello\": 175, \"howdy\": 176, \"hola\": 177, \"bonjour\": 178, \"konnichiwa\": 179, \"guten\": 180, \"tag\": 181, \"ola\": 182, \"morning\": 183, \"afternoon\": 184, \"how\\'s\": 185, \"evening\": 186, \"night\": 187, \"later\": 188, \"goodbye\": 189, \"au\": 190, \"revoir\": 191, \"sayonara\": 192, \"then\": 193, \"fare\": 194, \"thee\": 195, \"helpful\": 196, \"than\": 197, \"call\": 198, \"years\": 199, \"old\": 200, \"developed\": 201, \"listen\": 202, \"give\": 203, \"hand\": 204, \"feeling\": 205, \"down\": 206, \"anexious\": 207, \"empty\": 208, \"terrible\": 209, \"sick\": 210, \"stuck\": 211, \"still\": 212, \"burned\": 213, \"worthless\": 214, \"one\": 215, \"likes\": 216, \"makes\": 217, \"take\": 218, \"great\": 219, \"today\": 220, \"cheerful\": 221, \"oh\": 222, \"okay\": 223, \"nice\": 224, \"whatever\": 225, \"k\": 226, \"experiencing\": 227, \"stay\": 228, \"bring\": 229, \"open\": 230, \"shut\": 231, \"insominia\": 232, \"insomnia\": 233, \"slept\": 234, \"last\": 235, \"seem\": 236, \"had\": 237, \"proper\": 238, \"past\": 239, \"few\": 240, \"awful\": 241, \"way\": 242, \"doctor\": 243, \"been\": 244, \"diagnosis\": 245, \"dealing\": 246, \"living\": 247, \"mom\": 248, \"brother\": 249, \"dad\": 250, \"sister\": 251, \"understand\": 252, \"robot\": 253, \"possibly\": 254, \"through\": 255, \"nobody\": 256, \"understands\": 257, \"thought\": 258, \"killing\": 259, \"die\": 260, \"commit\": 261, \"suicide\": 262, \"trust\": 263, \"relationship\": 264, \"boyfriend\": 265, \"girlfriend\": 266, \"money\": 267, \"financial\": 268, \"told\": 269, \"mentioned\": 270, \"repeating\": 271, \"saying\": 272, \"doesn\\'t\": 273, \"make\": 274, \"response\": 275, \"answer\": 276, \"stupid\": 277, \"crazy\": 278, \"live\": 279, \"location\": 280, \"let\\'s\": 281, \"we\": 282, \"approaching\": 283, \"prepared\": 284, \"enough\": 285, \"sure\": 286, \"deserve\": 287, \"break\": 288, \"absolutely\": 289, \"hmmm\": 290, \"did\": 291, \"said\": 292, \"alot\": 293, \"now\": 294, \"again\": 295, \"i\\'ll\": 296, \"continue\": 297, \"practicing\": 298, \"meditation\": 299, \"focus\": 300, \"on\": 301, \"control\": 302, \"interested\": 303, \"learning\": 304, \"importance\": 305, \"mentally\": 306, \"ill\": 307, \"manage\": 308, \"ways\": 309, \"reduce\": 310, \"management\": 311, \"techniques\": 312, \"mean\": 313, \"common\": 314, \"percentage\": 315, \"adults\": 316, \"everyone\": 317, \"equally\": 318, \"certain\": 319, \"groups\": 320, \"vulnerable\": 321, \"most\": 322, \"recognize\": 323, \"disorders\": 324, \"people\": 325, \"possible\": 326, \"individuals\": 327, \"chances\": 328, \"seems\": 329, \"struggling\": 330, \"has\": 331, \"problem\": 332, \"showing\": 333, \"or\": 334, \"child\": 335, \"locate\": 336, \"provider\": 337, \"options\": 338, \"treatments\": 339, \"treated\": 340, \"become\": 341, \"things\": 342, \"consider\": 343, \"when\": 344, \"questions\": 345, \"differ\": 346, \"distinction\": 347, \"get\": 348, \"seek\": 349, \"assistance\": 350, \"other\": 351, \"avenues\": 352, \"new\": 353, \"medication\": 354, \"cures\": 355, \"cure\": 356, \"unwell\": 357, \"maintain\": 358, \"social\": 359, \"connections\": 360}'}"
      ]
     },
     "execution_count": 5,
     "metadata": {},
     "output_type": "execute_result"
    }
   ],
   "source": [
    "from tensorflow.keras.preprocessing.text import Tokenizer\n",
    "\n",
    "tokenizer = Tokenizer(lower=True, split=' ')\n",
    "tokenizer.fit_on_texts(df['patterns'])\n",
    "tokenizer.get_config()"
   ]
  },
  {
   "cell_type": "code",
   "execution_count": 6,
   "metadata": {},
   "outputs": [
    {
     "name": "stdout",
     "output_type": "stream",
     "text": [
      "number of unique words =  360\n"
     ]
    }
   ],
   "source": [
    "vacab_size = len(tokenizer.word_index)\n",
    "print('number of unique words = ', vacab_size)"
   ]
  },
  {
   "cell_type": "code",
   "execution_count": 7,
   "metadata": {},
   "outputs": [
    {
     "name": "stdout",
     "output_type": "stream",
     "text": [
      "X shape =  (305, 18)\n",
      "y shape =  (305,)\n",
      "num of classes =  86\n"
     ]
    }
   ],
   "source": [
    "from tensorflow.keras.preprocessing.sequence import pad_sequences\n",
    "from sklearn.preprocessing import LabelEncoder\n",
    "\n",
    "ptrn2seq = tokenizer.texts_to_sequences(df['patterns'])\n",
    "X = pad_sequences(ptrn2seq, padding='post')\n",
    "print('X shape = ', X.shape)\n",
    "\n",
    "lbl_enc = LabelEncoder()\n",
    "y = lbl_enc.fit_transform(df['tag'])\n",
    "print('y shape = ', y.shape)\n",
    "print('num of classes = ', len(np.unique(y)))"
   ]
  },
  {
   "cell_type": "code",
   "execution_count": 8,
   "metadata": {},
   "outputs": [
    {
     "name": "stdout",
     "output_type": "stream",
     "text": [
      "Requirement already satisfied: pydot in c:\\users\\belhassen\\anaconda3\\lib\\site-packages (2.0.0)\n",
      "Requirement already satisfied: pyparsing>=3 in c:\\users\\belhassen\\anaconda3\\lib\\site-packages (from pydot) (3.0.9)\n",
      "Note: you may need to restart the kernel to use updated packages.\n"
     ]
    }
   ],
   "source": [
    "pip install pydot\n"
   ]
  },
  {
   "cell_type": "code",
   "execution_count": 9,
   "metadata": {},
   "outputs": [
    {
     "name": "stdout",
     "output_type": "stream",
     "text": [
      "Requirement already satisfied: graphviz in c:\\users\\belhassen\\anaconda3\\lib\\site-packages (0.20.3)\n"
     ]
    }
   ],
   "source": [
    "!pip install graphviz\n",
    "\n"
   ]
  },
  {
   "cell_type": "markdown",
   "metadata": {},
   "source": [
    "# Build and Train Model"
   ]
  },
  {
   "cell_type": "code",
   "execution_count": 10,
   "metadata": {
    "execution": {
     "iopub.execute_input": "2023-01-19T12:12:24.932304Z",
     "iopub.status.busy": "2023-01-19T12:12:24.930822Z",
     "iopub.status.idle": "2023-01-19T12:12:28.639678Z",
     "shell.execute_reply": "2023-01-19T12:12:28.638110Z",
     "shell.execute_reply.started": "2023-01-19T12:12:24.932256Z"
    }
   },
   "outputs": [
    {
     "data": {
      "text/html": [
       "<pre style=\"white-space:pre;overflow-x:auto;line-height:normal;font-family:Menlo,'DejaVu Sans Mono',consolas,'Courier New',monospace\"><span style=\"font-weight: bold\">Model: \"sequential\"</span>\n",
       "</pre>\n"
      ],
      "text/plain": [
       "\u001b[1mModel: \"sequential\"\u001b[0m\n"
      ]
     },
     "metadata": {},
     "output_type": "display_data"
    },
    {
     "data": {
      "text/html": [
       "<pre style=\"white-space:pre;overflow-x:auto;line-height:normal;font-family:Menlo,'DejaVu Sans Mono',consolas,'Courier New',monospace\">┏━━━━━━━━━━━━━━━━━━━━━━━━━━━━━━━━━━━━━━┳━━━━━━━━━━━━━━━━━━━━━━━━━━━━━┳━━━━━━━━━━━━━━━━━┓\n",
       "┃<span style=\"font-weight: bold\"> Layer (type)                         </span>┃<span style=\"font-weight: bold\"> Output Shape                </span>┃<span style=\"font-weight: bold\">         Param # </span>┃\n",
       "┡━━━━━━━━━━━━━━━━━━━━━━━━━━━━━━━━━━━━━━╇━━━━━━━━━━━━━━━━━━━━━━━━━━━━━╇━━━━━━━━━━━━━━━━━┩\n",
       "│ embedding (<span style=\"color: #0087ff; text-decoration-color: #0087ff\">Embedding</span>)                │ (<span style=\"color: #00d7ff; text-decoration-color: #00d7ff\">None</span>, <span style=\"color: #00af00; text-decoration-color: #00af00\">18</span>, <span style=\"color: #00af00; text-decoration-color: #00af00\">100</span>)             │          <span style=\"color: #00af00; text-decoration-color: #00af00\">36,100</span> │\n",
       "├──────────────────────────────────────┼─────────────────────────────┼─────────────────┤\n",
       "│ lstm (<span style=\"color: #0087ff; text-decoration-color: #0087ff\">LSTM</span>)                          │ (<span style=\"color: #00d7ff; text-decoration-color: #00d7ff\">None</span>, <span style=\"color: #00af00; text-decoration-color: #00af00\">18</span>, <span style=\"color: #00af00; text-decoration-color: #00af00\">32</span>)              │          <span style=\"color: #00af00; text-decoration-color: #00af00\">17,024</span> │\n",
       "├──────────────────────────────────────┼─────────────────────────────┼─────────────────┤\n",
       "│ layer_normalization                  │ (<span style=\"color: #00d7ff; text-decoration-color: #00d7ff\">None</span>, <span style=\"color: #00af00; text-decoration-color: #00af00\">18</span>, <span style=\"color: #00af00; text-decoration-color: #00af00\">32</span>)              │              <span style=\"color: #00af00; text-decoration-color: #00af00\">64</span> │\n",
       "│ (<span style=\"color: #0087ff; text-decoration-color: #0087ff\">LayerNormalization</span>)                 │                             │                 │\n",
       "├──────────────────────────────────────┼─────────────────────────────┼─────────────────┤\n",
       "│ lstm_1 (<span style=\"color: #0087ff; text-decoration-color: #0087ff\">LSTM</span>)                        │ (<span style=\"color: #00d7ff; text-decoration-color: #00d7ff\">None</span>, <span style=\"color: #00af00; text-decoration-color: #00af00\">18</span>, <span style=\"color: #00af00; text-decoration-color: #00af00\">32</span>)              │           <span style=\"color: #00af00; text-decoration-color: #00af00\">8,320</span> │\n",
       "├──────────────────────────────────────┼─────────────────────────────┼─────────────────┤\n",
       "│ layer_normalization_1                │ (<span style=\"color: #00d7ff; text-decoration-color: #00d7ff\">None</span>, <span style=\"color: #00af00; text-decoration-color: #00af00\">18</span>, <span style=\"color: #00af00; text-decoration-color: #00af00\">32</span>)              │              <span style=\"color: #00af00; text-decoration-color: #00af00\">64</span> │\n",
       "│ (<span style=\"color: #0087ff; text-decoration-color: #0087ff\">LayerNormalization</span>)                 │                             │                 │\n",
       "├──────────────────────────────────────┼─────────────────────────────┼─────────────────┤\n",
       "│ lstm_2 (<span style=\"color: #0087ff; text-decoration-color: #0087ff\">LSTM</span>)                        │ (<span style=\"color: #00d7ff; text-decoration-color: #00d7ff\">None</span>, <span style=\"color: #00af00; text-decoration-color: #00af00\">32</span>)                  │           <span style=\"color: #00af00; text-decoration-color: #00af00\">8,320</span> │\n",
       "├──────────────────────────────────────┼─────────────────────────────┼─────────────────┤\n",
       "│ layer_normalization_2                │ (<span style=\"color: #00d7ff; text-decoration-color: #00d7ff\">None</span>, <span style=\"color: #00af00; text-decoration-color: #00af00\">32</span>)                  │              <span style=\"color: #00af00; text-decoration-color: #00af00\">64</span> │\n",
       "│ (<span style=\"color: #0087ff; text-decoration-color: #0087ff\">LayerNormalization</span>)                 │                             │                 │\n",
       "├──────────────────────────────────────┼─────────────────────────────┼─────────────────┤\n",
       "│ dense (<span style=\"color: #0087ff; text-decoration-color: #0087ff\">Dense</span>)                        │ (<span style=\"color: #00d7ff; text-decoration-color: #00d7ff\">None</span>, <span style=\"color: #00af00; text-decoration-color: #00af00\">128</span>)                 │           <span style=\"color: #00af00; text-decoration-color: #00af00\">4,224</span> │\n",
       "├──────────────────────────────────────┼─────────────────────────────┼─────────────────┤\n",
       "│ layer_normalization_3                │ (<span style=\"color: #00d7ff; text-decoration-color: #00d7ff\">None</span>, <span style=\"color: #00af00; text-decoration-color: #00af00\">128</span>)                 │             <span style=\"color: #00af00; text-decoration-color: #00af00\">256</span> │\n",
       "│ (<span style=\"color: #0087ff; text-decoration-color: #0087ff\">LayerNormalization</span>)                 │                             │                 │\n",
       "├──────────────────────────────────────┼─────────────────────────────┼─────────────────┤\n",
       "│ dropout (<span style=\"color: #0087ff; text-decoration-color: #0087ff\">Dropout</span>)                    │ (<span style=\"color: #00d7ff; text-decoration-color: #00d7ff\">None</span>, <span style=\"color: #00af00; text-decoration-color: #00af00\">128</span>)                 │               <span style=\"color: #00af00; text-decoration-color: #00af00\">0</span> │\n",
       "├──────────────────────────────────────┼─────────────────────────────┼─────────────────┤\n",
       "│ dense_1 (<span style=\"color: #0087ff; text-decoration-color: #0087ff\">Dense</span>)                      │ (<span style=\"color: #00d7ff; text-decoration-color: #00d7ff\">None</span>, <span style=\"color: #00af00; text-decoration-color: #00af00\">128</span>)                 │          <span style=\"color: #00af00; text-decoration-color: #00af00\">16,512</span> │\n",
       "├──────────────────────────────────────┼─────────────────────────────┼─────────────────┤\n",
       "│ layer_normalization_4                │ (<span style=\"color: #00d7ff; text-decoration-color: #00d7ff\">None</span>, <span style=\"color: #00af00; text-decoration-color: #00af00\">128</span>)                 │             <span style=\"color: #00af00; text-decoration-color: #00af00\">256</span> │\n",
       "│ (<span style=\"color: #0087ff; text-decoration-color: #0087ff\">LayerNormalization</span>)                 │                             │                 │\n",
       "├──────────────────────────────────────┼─────────────────────────────┼─────────────────┤\n",
       "│ dropout_1 (<span style=\"color: #0087ff; text-decoration-color: #0087ff\">Dropout</span>)                  │ (<span style=\"color: #00d7ff; text-decoration-color: #00d7ff\">None</span>, <span style=\"color: #00af00; text-decoration-color: #00af00\">128</span>)                 │               <span style=\"color: #00af00; text-decoration-color: #00af00\">0</span> │\n",
       "├──────────────────────────────────────┼─────────────────────────────┼─────────────────┤\n",
       "│ dense_2 (<span style=\"color: #0087ff; text-decoration-color: #0087ff\">Dense</span>)                      │ (<span style=\"color: #00d7ff; text-decoration-color: #00d7ff\">None</span>, <span style=\"color: #00af00; text-decoration-color: #00af00\">86</span>)                  │          <span style=\"color: #00af00; text-decoration-color: #00af00\">11,094</span> │\n",
       "└──────────────────────────────────────┴─────────────────────────────┴─────────────────┘\n",
       "</pre>\n"
      ],
      "text/plain": [
       "┏━━━━━━━━━━━━━━━━━━━━━━━━━━━━━━━━━━━━━━┳━━━━━━━━━━━━━━━━━━━━━━━━━━━━━┳━━━━━━━━━━━━━━━━━┓\n",
       "┃\u001b[1m \u001b[0m\u001b[1mLayer (type)                        \u001b[0m\u001b[1m \u001b[0m┃\u001b[1m \u001b[0m\u001b[1mOutput Shape               \u001b[0m\u001b[1m \u001b[0m┃\u001b[1m \u001b[0m\u001b[1m        Param #\u001b[0m\u001b[1m \u001b[0m┃\n",
       "┡━━━━━━━━━━━━━━━━━━━━━━━━━━━━━━━━━━━━━━╇━━━━━━━━━━━━━━━━━━━━━━━━━━━━━╇━━━━━━━━━━━━━━━━━┩\n",
       "│ embedding (\u001b[38;5;33mEmbedding\u001b[0m)                │ (\u001b[38;5;45mNone\u001b[0m, \u001b[38;5;34m18\u001b[0m, \u001b[38;5;34m100\u001b[0m)             │          \u001b[38;5;34m36,100\u001b[0m │\n",
       "├──────────────────────────────────────┼─────────────────────────────┼─────────────────┤\n",
       "│ lstm (\u001b[38;5;33mLSTM\u001b[0m)                          │ (\u001b[38;5;45mNone\u001b[0m, \u001b[38;5;34m18\u001b[0m, \u001b[38;5;34m32\u001b[0m)              │          \u001b[38;5;34m17,024\u001b[0m │\n",
       "├──────────────────────────────────────┼─────────────────────────────┼─────────────────┤\n",
       "│ layer_normalization                  │ (\u001b[38;5;45mNone\u001b[0m, \u001b[38;5;34m18\u001b[0m, \u001b[38;5;34m32\u001b[0m)              │              \u001b[38;5;34m64\u001b[0m │\n",
       "│ (\u001b[38;5;33mLayerNormalization\u001b[0m)                 │                             │                 │\n",
       "├──────────────────────────────────────┼─────────────────────────────┼─────────────────┤\n",
       "│ lstm_1 (\u001b[38;5;33mLSTM\u001b[0m)                        │ (\u001b[38;5;45mNone\u001b[0m, \u001b[38;5;34m18\u001b[0m, \u001b[38;5;34m32\u001b[0m)              │           \u001b[38;5;34m8,320\u001b[0m │\n",
       "├──────────────────────────────────────┼─────────────────────────────┼─────────────────┤\n",
       "│ layer_normalization_1                │ (\u001b[38;5;45mNone\u001b[0m, \u001b[38;5;34m18\u001b[0m, \u001b[38;5;34m32\u001b[0m)              │              \u001b[38;5;34m64\u001b[0m │\n",
       "│ (\u001b[38;5;33mLayerNormalization\u001b[0m)                 │                             │                 │\n",
       "├──────────────────────────────────────┼─────────────────────────────┼─────────────────┤\n",
       "│ lstm_2 (\u001b[38;5;33mLSTM\u001b[0m)                        │ (\u001b[38;5;45mNone\u001b[0m, \u001b[38;5;34m32\u001b[0m)                  │           \u001b[38;5;34m8,320\u001b[0m │\n",
       "├──────────────────────────────────────┼─────────────────────────────┼─────────────────┤\n",
       "│ layer_normalization_2                │ (\u001b[38;5;45mNone\u001b[0m, \u001b[38;5;34m32\u001b[0m)                  │              \u001b[38;5;34m64\u001b[0m │\n",
       "│ (\u001b[38;5;33mLayerNormalization\u001b[0m)                 │                             │                 │\n",
       "├──────────────────────────────────────┼─────────────────────────────┼─────────────────┤\n",
       "│ dense (\u001b[38;5;33mDense\u001b[0m)                        │ (\u001b[38;5;45mNone\u001b[0m, \u001b[38;5;34m128\u001b[0m)                 │           \u001b[38;5;34m4,224\u001b[0m │\n",
       "├──────────────────────────────────────┼─────────────────────────────┼─────────────────┤\n",
       "│ layer_normalization_3                │ (\u001b[38;5;45mNone\u001b[0m, \u001b[38;5;34m128\u001b[0m)                 │             \u001b[38;5;34m256\u001b[0m │\n",
       "│ (\u001b[38;5;33mLayerNormalization\u001b[0m)                 │                             │                 │\n",
       "├──────────────────────────────────────┼─────────────────────────────┼─────────────────┤\n",
       "│ dropout (\u001b[38;5;33mDropout\u001b[0m)                    │ (\u001b[38;5;45mNone\u001b[0m, \u001b[38;5;34m128\u001b[0m)                 │               \u001b[38;5;34m0\u001b[0m │\n",
       "├──────────────────────────────────────┼─────────────────────────────┼─────────────────┤\n",
       "│ dense_1 (\u001b[38;5;33mDense\u001b[0m)                      │ (\u001b[38;5;45mNone\u001b[0m, \u001b[38;5;34m128\u001b[0m)                 │          \u001b[38;5;34m16,512\u001b[0m │\n",
       "├──────────────────────────────────────┼─────────────────────────────┼─────────────────┤\n",
       "│ layer_normalization_4                │ (\u001b[38;5;45mNone\u001b[0m, \u001b[38;5;34m128\u001b[0m)                 │             \u001b[38;5;34m256\u001b[0m │\n",
       "│ (\u001b[38;5;33mLayerNormalization\u001b[0m)                 │                             │                 │\n",
       "├──────────────────────────────────────┼─────────────────────────────┼─────────────────┤\n",
       "│ dropout_1 (\u001b[38;5;33mDropout\u001b[0m)                  │ (\u001b[38;5;45mNone\u001b[0m, \u001b[38;5;34m128\u001b[0m)                 │               \u001b[38;5;34m0\u001b[0m │\n",
       "├──────────────────────────────────────┼─────────────────────────────┼─────────────────┤\n",
       "│ dense_2 (\u001b[38;5;33mDense\u001b[0m)                      │ (\u001b[38;5;45mNone\u001b[0m, \u001b[38;5;34m86\u001b[0m)                  │          \u001b[38;5;34m11,094\u001b[0m │\n",
       "└──────────────────────────────────────┴─────────────────────────────┴─────────────────┘\n"
      ]
     },
     "metadata": {},
     "output_type": "display_data"
    },
    {
     "data": {
      "text/html": [
       "<pre style=\"white-space:pre;overflow-x:auto;line-height:normal;font-family:Menlo,'DejaVu Sans Mono',consolas,'Courier New',monospace\"><span style=\"font-weight: bold\"> Total params: </span><span style=\"color: #00af00; text-decoration-color: #00af00\">102,298</span> (399.60 KB)\n",
       "</pre>\n"
      ],
      "text/plain": [
       "\u001b[1m Total params: \u001b[0m\u001b[38;5;34m102,298\u001b[0m (399.60 KB)\n"
      ]
     },
     "metadata": {},
     "output_type": "display_data"
    },
    {
     "data": {
      "text/html": [
       "<pre style=\"white-space:pre;overflow-x:auto;line-height:normal;font-family:Menlo,'DejaVu Sans Mono',consolas,'Courier New',monospace\"><span style=\"font-weight: bold\"> Trainable params: </span><span style=\"color: #00af00; text-decoration-color: #00af00\">102,298</span> (399.60 KB)\n",
       "</pre>\n"
      ],
      "text/plain": [
       "\u001b[1m Trainable params: \u001b[0m\u001b[38;5;34m102,298\u001b[0m (399.60 KB)\n"
      ]
     },
     "metadata": {},
     "output_type": "display_data"
    },
    {
     "data": {
      "text/html": [
       "<pre style=\"white-space:pre;overflow-x:auto;line-height:normal;font-family:Menlo,'DejaVu Sans Mono',consolas,'Courier New',monospace\"><span style=\"font-weight: bold\"> Non-trainable params: </span><span style=\"color: #00af00; text-decoration-color: #00af00\">0</span> (0.00 B)\n",
       "</pre>\n"
      ],
      "text/plain": [
       "\u001b[1m Non-trainable params: \u001b[0m\u001b[38;5;34m0\u001b[0m (0.00 B)\n"
      ]
     },
     "metadata": {},
     "output_type": "display_data"
    },
    {
     "ename": "AttributeError",
     "evalue": "module 'pydot' has no attribute 'InvocationException'",
     "output_type": "error",
     "traceback": [
      "\u001b[1;31m---------------------------------------------------------------------------\u001b[0m",
      "\u001b[1;31mFileNotFoundError\u001b[0m                         Traceback (most recent call last)",
      "File \u001b[1;32m~\\anaconda3\\Lib\\site-packages\\pydot\\core.py:1753\u001b[0m, in \u001b[0;36mDot.create\u001b[1;34m(self, prog, format, encoding)\u001b[0m\n\u001b[0;32m   1752\u001b[0m \u001b[38;5;28;01mtry\u001b[39;00m:\n\u001b[1;32m-> 1753\u001b[0m     stdout_data, stderr_data, process \u001b[38;5;241m=\u001b[39m call_graphviz(\n\u001b[0;32m   1754\u001b[0m         program\u001b[38;5;241m=\u001b[39mprog,\n\u001b[0;32m   1755\u001b[0m         arguments\u001b[38;5;241m=\u001b[39marguments,\n\u001b[0;32m   1756\u001b[0m         working_dir\u001b[38;5;241m=\u001b[39mtmp_dir,\n\u001b[0;32m   1757\u001b[0m     )\n\u001b[0;32m   1758\u001b[0m \u001b[38;5;28;01mexcept\u001b[39;00m \u001b[38;5;167;01mOSError\u001b[39;00m \u001b[38;5;28;01mas\u001b[39;00m e:\n",
      "File \u001b[1;32m~\\anaconda3\\Lib\\site-packages\\pydot\\core.py:133\u001b[0m, in \u001b[0;36mcall_graphviz\u001b[1;34m(program, arguments, working_dir, **kwargs)\u001b[0m\n\u001b[0;32m    131\u001b[0m program_with_args \u001b[38;5;241m=\u001b[39m [program] \u001b[38;5;241m+\u001b[39m arguments\n\u001b[1;32m--> 133\u001b[0m process \u001b[38;5;241m=\u001b[39m subprocess\u001b[38;5;241m.\u001b[39mPopen(\n\u001b[0;32m    134\u001b[0m     program_with_args,\n\u001b[0;32m    135\u001b[0m     env\u001b[38;5;241m=\u001b[39menv,\n\u001b[0;32m    136\u001b[0m     cwd\u001b[38;5;241m=\u001b[39mworking_dir,\n\u001b[0;32m    137\u001b[0m     shell\u001b[38;5;241m=\u001b[39m\u001b[38;5;28;01mFalse\u001b[39;00m,\n\u001b[0;32m    138\u001b[0m     stderr\u001b[38;5;241m=\u001b[39msubprocess\u001b[38;5;241m.\u001b[39mPIPE,\n\u001b[0;32m    139\u001b[0m     stdout\u001b[38;5;241m=\u001b[39msubprocess\u001b[38;5;241m.\u001b[39mPIPE,\n\u001b[0;32m    140\u001b[0m     \u001b[38;5;241m*\u001b[39m\u001b[38;5;241m*\u001b[39mkwargs,\n\u001b[0;32m    141\u001b[0m )\n\u001b[0;32m    142\u001b[0m stdout_data, stderr_data \u001b[38;5;241m=\u001b[39m process\u001b[38;5;241m.\u001b[39mcommunicate()\n",
      "File \u001b[1;32m~\\anaconda3\\Lib\\subprocess.py:1026\u001b[0m, in \u001b[0;36mPopen.__init__\u001b[1;34m(self, args, bufsize, executable, stdin, stdout, stderr, preexec_fn, close_fds, shell, cwd, env, universal_newlines, startupinfo, creationflags, restore_signals, start_new_session, pass_fds, user, group, extra_groups, encoding, errors, text, umask, pipesize, process_group)\u001b[0m\n\u001b[0;32m   1023\u001b[0m             \u001b[38;5;28mself\u001b[39m\u001b[38;5;241m.\u001b[39mstderr \u001b[38;5;241m=\u001b[39m io\u001b[38;5;241m.\u001b[39mTextIOWrapper(\u001b[38;5;28mself\u001b[39m\u001b[38;5;241m.\u001b[39mstderr,\n\u001b[0;32m   1024\u001b[0m                     encoding\u001b[38;5;241m=\u001b[39mencoding, errors\u001b[38;5;241m=\u001b[39merrors)\n\u001b[1;32m-> 1026\u001b[0m     \u001b[38;5;28mself\u001b[39m\u001b[38;5;241m.\u001b[39m_execute_child(args, executable, preexec_fn, close_fds,\n\u001b[0;32m   1027\u001b[0m                         pass_fds, cwd, env,\n\u001b[0;32m   1028\u001b[0m                         startupinfo, creationflags, shell,\n\u001b[0;32m   1029\u001b[0m                         p2cread, p2cwrite,\n\u001b[0;32m   1030\u001b[0m                         c2pread, c2pwrite,\n\u001b[0;32m   1031\u001b[0m                         errread, errwrite,\n\u001b[0;32m   1032\u001b[0m                         restore_signals,\n\u001b[0;32m   1033\u001b[0m                         gid, gids, uid, umask,\n\u001b[0;32m   1034\u001b[0m                         start_new_session, process_group)\n\u001b[0;32m   1035\u001b[0m \u001b[38;5;28;01mexcept\u001b[39;00m:\n\u001b[0;32m   1036\u001b[0m     \u001b[38;5;66;03m# Cleanup if the child failed starting.\u001b[39;00m\n",
      "File \u001b[1;32m~\\anaconda3\\Lib\\subprocess.py:1538\u001b[0m, in \u001b[0;36mPopen._execute_child\u001b[1;34m(self, args, executable, preexec_fn, close_fds, pass_fds, cwd, env, startupinfo, creationflags, shell, p2cread, p2cwrite, c2pread, c2pwrite, errread, errwrite, unused_restore_signals, unused_gid, unused_gids, unused_uid, unused_umask, unused_start_new_session, unused_process_group)\u001b[0m\n\u001b[0;32m   1537\u001b[0m \u001b[38;5;28;01mtry\u001b[39;00m:\n\u001b[1;32m-> 1538\u001b[0m     hp, ht, pid, tid \u001b[38;5;241m=\u001b[39m _winapi\u001b[38;5;241m.\u001b[39mCreateProcess(executable, args,\n\u001b[0;32m   1539\u001b[0m                              \u001b[38;5;66;03m# no special security\u001b[39;00m\n\u001b[0;32m   1540\u001b[0m                              \u001b[38;5;28;01mNone\u001b[39;00m, \u001b[38;5;28;01mNone\u001b[39;00m,\n\u001b[0;32m   1541\u001b[0m                              \u001b[38;5;28mint\u001b[39m(\u001b[38;5;129;01mnot\u001b[39;00m close_fds),\n\u001b[0;32m   1542\u001b[0m                              creationflags,\n\u001b[0;32m   1543\u001b[0m                              env,\n\u001b[0;32m   1544\u001b[0m                              cwd,\n\u001b[0;32m   1545\u001b[0m                              startupinfo)\n\u001b[0;32m   1546\u001b[0m \u001b[38;5;28;01mfinally\u001b[39;00m:\n\u001b[0;32m   1547\u001b[0m     \u001b[38;5;66;03m# Child is launched. Close the parent's copy of those pipe\u001b[39;00m\n\u001b[0;32m   1548\u001b[0m     \u001b[38;5;66;03m# handles that only the child should have open.  You need\u001b[39;00m\n\u001b[1;32m   (...)\u001b[0m\n\u001b[0;32m   1551\u001b[0m     \u001b[38;5;66;03m# pipe will not close when the child process exits and the\u001b[39;00m\n\u001b[0;32m   1552\u001b[0m     \u001b[38;5;66;03m# ReadFile will hang.\u001b[39;00m\n",
      "\u001b[1;31mFileNotFoundError\u001b[0m: [WinError 2] The system cannot find the file specified",
      "\nDuring handling of the above exception, another exception occurred:\n",
      "\u001b[1;31mFileNotFoundError\u001b[0m                         Traceback (most recent call last)",
      "File \u001b[1;32m~\\anaconda3\\Lib\\site-packages\\keras\\src\\utils\\model_visualization.py:36\u001b[0m, in \u001b[0;36mcheck_graphviz\u001b[1;34m()\u001b[0m\n\u001b[0;32m     33\u001b[0m \u001b[38;5;28;01mtry\u001b[39;00m:\n\u001b[0;32m     34\u001b[0m     \u001b[38;5;66;03m# Attempt to create an image of a blank graph\u001b[39;00m\n\u001b[0;32m     35\u001b[0m     \u001b[38;5;66;03m# to check the pydot/graphviz installation.\u001b[39;00m\n\u001b[1;32m---> 36\u001b[0m     pydot\u001b[38;5;241m.\u001b[39mDot\u001b[38;5;241m.\u001b[39mcreate(pydot\u001b[38;5;241m.\u001b[39mDot())\n\u001b[0;32m     37\u001b[0m     \u001b[38;5;28;01mreturn\u001b[39;00m \u001b[38;5;28;01mTrue\u001b[39;00m\n",
      "File \u001b[1;32m~\\anaconda3\\Lib\\site-packages\\pydot\\core.py:1762\u001b[0m, in \u001b[0;36mDot.create\u001b[1;34m(self, prog, format, encoding)\u001b[0m\n\u001b[0;32m   1761\u001b[0m     args[\u001b[38;5;241m1\u001b[39m] \u001b[38;5;241m=\u001b[39m \u001b[38;5;124m'\u001b[39m\u001b[38;5;124m\"\u001b[39m\u001b[38;5;132;01m{prog}\u001b[39;00m\u001b[38;5;124m\"\u001b[39m\u001b[38;5;124m not found in path.\u001b[39m\u001b[38;5;124m'\u001b[39m\u001b[38;5;241m.\u001b[39mformat(prog\u001b[38;5;241m=\u001b[39mprog)\n\u001b[1;32m-> 1762\u001b[0m     \u001b[38;5;28;01mraise\u001b[39;00m \u001b[38;5;167;01mOSError\u001b[39;00m(\u001b[38;5;241m*\u001b[39margs)\n\u001b[0;32m   1763\u001b[0m \u001b[38;5;28;01melse\u001b[39;00m:\n",
      "\u001b[1;31mFileNotFoundError\u001b[0m: [WinError 2] \"dot\" not found in path.",
      "\nDuring handling of the above exception, another exception occurred:\n",
      "\u001b[1;31mAttributeError\u001b[0m                            Traceback (most recent call last)",
      "Cell \u001b[1;32mIn[10], line 30\u001b[0m\n\u001b[0;32m     27\u001b[0m model\u001b[38;5;241m.\u001b[39mcompile(optimizer\u001b[38;5;241m=\u001b[39m\u001b[38;5;124m'\u001b[39m\u001b[38;5;124madam\u001b[39m\u001b[38;5;124m'\u001b[39m, loss\u001b[38;5;241m=\u001b[39m\u001b[38;5;124m\"\u001b[39m\u001b[38;5;124msparse_categorical_crossentropy\u001b[39m\u001b[38;5;124m\"\u001b[39m, metrics\u001b[38;5;241m=\u001b[39m[\u001b[38;5;124m'\u001b[39m\u001b[38;5;124maccuracy\u001b[39m\u001b[38;5;124m'\u001b[39m])\n\u001b[0;32m     29\u001b[0m model\u001b[38;5;241m.\u001b[39msummary()\n\u001b[1;32m---> 30\u001b[0m plot_model(model, show_shapes\u001b[38;5;241m=\u001b[39m\u001b[38;5;28;01mTrue\u001b[39;00m)\n",
      "File \u001b[1;32m~\\anaconda3\\Lib\\site-packages\\keras\\src\\utils\\model_visualization.py:405\u001b[0m, in \u001b[0;36mplot_model\u001b[1;34m(model, to_file, show_shapes, show_dtype, show_layer_names, rankdir, expand_nested, dpi, show_layer_activations, show_trainable, **kwargs)\u001b[0m\n\u001b[0;32m    403\u001b[0m     \u001b[38;5;28;01melse\u001b[39;00m:\n\u001b[0;32m    404\u001b[0m         \u001b[38;5;28;01mraise\u001b[39;00m \u001b[38;5;167;01mImportError\u001b[39;00m(message)\n\u001b[1;32m--> 405\u001b[0m \u001b[38;5;28;01mif\u001b[39;00m \u001b[38;5;129;01mnot\u001b[39;00m check_graphviz():\n\u001b[0;32m    406\u001b[0m     message \u001b[38;5;241m=\u001b[39m (\n\u001b[0;32m    407\u001b[0m         \u001b[38;5;124m\"\u001b[39m\u001b[38;5;124mYou must install graphviz \u001b[39m\u001b[38;5;124m\"\u001b[39m\n\u001b[0;32m    408\u001b[0m         \u001b[38;5;124m\"\u001b[39m\u001b[38;5;124m(see instructions at https://graphviz.gitlab.io/download/) \u001b[39m\u001b[38;5;124m\"\u001b[39m\n\u001b[0;32m    409\u001b[0m         \u001b[38;5;124m\"\u001b[39m\u001b[38;5;124mfor `plot_model` to work.\u001b[39m\u001b[38;5;124m\"\u001b[39m\n\u001b[0;32m    410\u001b[0m     )\n\u001b[0;32m    411\u001b[0m     \u001b[38;5;28;01mif\u001b[39;00m \u001b[38;5;124m\"\u001b[39m\u001b[38;5;124mIPython.core.magics.namespace\u001b[39m\u001b[38;5;124m\"\u001b[39m \u001b[38;5;129;01min\u001b[39;00m sys\u001b[38;5;241m.\u001b[39mmodules:\n\u001b[0;32m    412\u001b[0m         \u001b[38;5;66;03m# We don't raise an exception here in order to avoid crashing\u001b[39;00m\n\u001b[0;32m    413\u001b[0m         \u001b[38;5;66;03m# notebook tests where graphviz is not available.\u001b[39;00m\n",
      "File \u001b[1;32m~\\anaconda3\\Lib\\site-packages\\keras\\src\\utils\\model_visualization.py:38\u001b[0m, in \u001b[0;36mcheck_graphviz\u001b[1;34m()\u001b[0m\n\u001b[0;32m     36\u001b[0m     pydot\u001b[38;5;241m.\u001b[39mDot\u001b[38;5;241m.\u001b[39mcreate(pydot\u001b[38;5;241m.\u001b[39mDot())\n\u001b[0;32m     37\u001b[0m     \u001b[38;5;28;01mreturn\u001b[39;00m \u001b[38;5;28;01mTrue\u001b[39;00m\n\u001b[1;32m---> 38\u001b[0m \u001b[38;5;28;01mexcept\u001b[39;00m (\u001b[38;5;167;01mOSError\u001b[39;00m, pydot\u001b[38;5;241m.\u001b[39mInvocationException):\n\u001b[0;32m     39\u001b[0m     \u001b[38;5;28;01mreturn\u001b[39;00m \u001b[38;5;28;01mFalse\u001b[39;00m\n",
      "\u001b[1;31mAttributeError\u001b[0m: module 'pydot' has no attribute 'InvocationException'"
     ]
    }
   ],
   "source": [
    "import tensorflow\n",
    "import graphviz\n",
    "\n",
    "from tensorflow import keras\n",
    "from tensorflow.keras.models import Sequential\n",
    "from tensorflow.keras.layers import Input, Embedding, LSTM, LayerNormalization, Dense, Dropout\n",
    "from tensorflow.keras.utils import plot_model\n",
    "\n",
    "\n",
    "model = Sequential()\n",
    "model.add(Input(shape=(X.shape[1],)))\n",
    "\n",
    "model.add(Embedding(input_dim=vacab_size+1, output_dim=100, mask_zero=True))\n",
    "model.add(LSTM(32, return_sequences=True))\n",
    "model.add(LayerNormalization())\n",
    "model.add(LSTM(32, return_sequences=True))\n",
    "model.add(LayerNormalization())\n",
    "model.add(LSTM(32))\n",
    "model.add(LayerNormalization())\n",
    "model.add(Dense(128, activation=\"relu\"))\n",
    "model.add(LayerNormalization())\n",
    "model.add(Dropout(0.2))\n",
    "model.add(Dense(128, activation=\"relu\"))\n",
    "model.add(LayerNormalization())\n",
    "model.add(Dropout(0.2))\n",
    "model.add(Dense(len(np.unique(y)), activation=\"softmax\"))\n",
    "model.compile(optimizer='adam', loss=\"sparse_categorical_crossentropy\", metrics=['accuracy'])\n",
    "\n",
    "model.summary()\n",
    "plot_model(model, show_shapes=True)"
   ]
  },
  {
   "cell_type": "code",
   "execution_count": 11,
   "metadata": {
    "execution": {
     "iopub.execute_input": "2023-01-19T12:12:38.482750Z",
     "iopub.status.busy": "2023-01-19T12:12:38.482084Z",
     "iopub.status.idle": "2023-01-19T12:13:21.140182Z",
     "shell.execute_reply": "2023-01-19T12:13:21.139153Z",
     "shell.execute_reply.started": "2023-01-19T12:12:38.482691Z"
    }
   },
   "outputs": [
    {
     "name": "stdout",
     "output_type": "stream",
     "text": [
      "Epoch 1/25\n",
      "\u001b[1m16/16\u001b[0m \u001b[32m━━━━━━━━━━━━━━━━━━━━\u001b[0m\u001b[37m\u001b[0m \u001b[1m9s\u001b[0m 18ms/step - accuracy: 0.0259 - loss: 5.1616\n",
      "Epoch 2/25\n",
      "\u001b[1m16/16\u001b[0m \u001b[32m━━━━━━━━━━━━━━━━━━━━\u001b[0m\u001b[37m\u001b[0m \u001b[1m0s\u001b[0m 15ms/step - accuracy: 0.1078 - loss: 3.9824\n",
      "Epoch 3/25\n",
      "\u001b[1m16/16\u001b[0m \u001b[32m━━━━━━━━━━━━━━━━━━━━\u001b[0m\u001b[37m\u001b[0m \u001b[1m0s\u001b[0m 14ms/step - accuracy: 0.2252 - loss: 3.2872\n",
      "Epoch 4/25\n",
      "\u001b[1m16/16\u001b[0m \u001b[32m━━━━━━━━━━━━━━━━━━━━\u001b[0m\u001b[37m\u001b[0m \u001b[1m0s\u001b[0m 14ms/step - accuracy: 0.3445 - loss: 2.8757\n",
      "Epoch 5/25\n",
      "\u001b[1m16/16\u001b[0m \u001b[32m━━━━━━━━━━━━━━━━━━━━\u001b[0m\u001b[37m\u001b[0m \u001b[1m0s\u001b[0m 14ms/step - accuracy: 0.4396 - loss: 2.3702\n",
      "Epoch 6/25\n",
      "\u001b[1m16/16\u001b[0m \u001b[32m━━━━━━━━━━━━━━━━━━━━\u001b[0m\u001b[37m\u001b[0m \u001b[1m0s\u001b[0m 14ms/step - accuracy: 0.5228 - loss: 2.0688\n",
      "Epoch 7/25\n",
      "\u001b[1m16/16\u001b[0m \u001b[32m━━━━━━━━━━━━━━━━━━━━\u001b[0m\u001b[37m\u001b[0m \u001b[1m0s\u001b[0m 15ms/step - accuracy: 0.6176 - loss: 1.8697\n",
      "Epoch 8/25\n",
      "\u001b[1m16/16\u001b[0m \u001b[32m━━━━━━━━━━━━━━━━━━━━\u001b[0m\u001b[37m\u001b[0m \u001b[1m0s\u001b[0m 15ms/step - accuracy: 0.6760 - loss: 1.5336\n",
      "Epoch 9/25\n",
      "\u001b[1m16/16\u001b[0m \u001b[32m━━━━━━━━━━━━━━━━━━━━\u001b[0m\u001b[37m\u001b[0m \u001b[1m0s\u001b[0m 15ms/step - accuracy: 0.7394 - loss: 1.3049\n",
      "Epoch 10/25\n",
      "\u001b[1m16/16\u001b[0m \u001b[32m━━━━━━━━━━━━━━━━━━━━\u001b[0m\u001b[37m\u001b[0m \u001b[1m0s\u001b[0m 15ms/step - accuracy: 0.8107 - loss: 1.0971\n",
      "Epoch 11/25\n",
      "\u001b[1m16/16\u001b[0m \u001b[32m━━━━━━━━━━━━━━━━━━━━\u001b[0m\u001b[37m\u001b[0m \u001b[1m0s\u001b[0m 15ms/step - accuracy: 0.8165 - loss: 0.9405\n",
      "Epoch 12/25\n",
      "\u001b[1m16/16\u001b[0m \u001b[32m━━━━━━━━━━━━━━━━━━━━\u001b[0m\u001b[37m\u001b[0m \u001b[1m0s\u001b[0m 15ms/step - accuracy: 0.8244 - loss: 0.8917\n",
      "Epoch 13/25\n",
      "\u001b[1m16/16\u001b[0m \u001b[32m━━━━━━━━━━━━━━━━━━━━\u001b[0m\u001b[37m\u001b[0m \u001b[1m0s\u001b[0m 15ms/step - accuracy: 0.8683 - loss: 0.6998\n",
      "Epoch 14/25\n",
      "\u001b[1m16/16\u001b[0m \u001b[32m━━━━━━━━━━━━━━━━━━━━\u001b[0m\u001b[37m\u001b[0m \u001b[1m0s\u001b[0m 15ms/step - accuracy: 0.9318 - loss: 0.5498\n",
      "Epoch 15/25\n",
      "\u001b[1m16/16\u001b[0m \u001b[32m━━━━━━━━━━━━━━━━━━━━\u001b[0m\u001b[37m\u001b[0m \u001b[1m0s\u001b[0m 15ms/step - accuracy: 0.9103 - loss: 0.5295\n",
      "Epoch 16/25\n",
      "\u001b[1m16/16\u001b[0m \u001b[32m━━━━━━━━━━━━━━━━━━━━\u001b[0m\u001b[37m\u001b[0m \u001b[1m0s\u001b[0m 15ms/step - accuracy: 0.9326 - loss: 0.4983\n",
      "Epoch 17/25\n",
      "\u001b[1m16/16\u001b[0m \u001b[32m━━━━━━━━━━━━━━━━━━━━\u001b[0m\u001b[37m\u001b[0m \u001b[1m0s\u001b[0m 14ms/step - accuracy: 0.9385 - loss: 0.4449\n",
      "Epoch 18/25\n",
      "\u001b[1m16/16\u001b[0m \u001b[32m━━━━━━━━━━━━━━━━━━━━\u001b[0m\u001b[37m\u001b[0m \u001b[1m0s\u001b[0m 14ms/step - accuracy: 0.9590 - loss: 0.3874\n",
      "Epoch 19/25\n",
      "\u001b[1m16/16\u001b[0m \u001b[32m━━━━━━━━━━━━━━━━━━━━\u001b[0m\u001b[37m\u001b[0m \u001b[1m0s\u001b[0m 14ms/step - accuracy: 0.9586 - loss: 0.3182\n",
      "Epoch 20/25\n",
      "\u001b[1m16/16\u001b[0m \u001b[32m━━━━━━━━━━━━━━━━━━━━\u001b[0m\u001b[37m\u001b[0m \u001b[1m0s\u001b[0m 17ms/step - accuracy: 0.9596 - loss: 0.2652\n",
      "Epoch 21/25\n",
      "\u001b[1m16/16\u001b[0m \u001b[32m━━━━━━━━━━━━━━━━━━━━\u001b[0m\u001b[37m\u001b[0m \u001b[1m0s\u001b[0m 16ms/step - accuracy: 0.9538 - loss: 0.2662\n",
      "Epoch 22/25\n",
      "\u001b[1m16/16\u001b[0m \u001b[32m━━━━━━━━━━━━━━━━━━━━\u001b[0m\u001b[37m\u001b[0m \u001b[1m0s\u001b[0m 14ms/step - accuracy: 0.9708 - loss: 0.2223\n",
      "Epoch 23/25\n",
      "\u001b[1m16/16\u001b[0m \u001b[32m━━━━━━━━━━━━━━━━━━━━\u001b[0m\u001b[37m\u001b[0m \u001b[1m0s\u001b[0m 14ms/step - accuracy: 0.9682 - loss: 0.1714\n",
      "Epoch 24/25\n",
      "\u001b[1m16/16\u001b[0m \u001b[32m━━━━━━━━━━━━━━━━━━━━\u001b[0m\u001b[37m\u001b[0m \u001b[1m0s\u001b[0m 14ms/step - accuracy: 0.9826 - loss: 0.1597\n",
      "Epoch 25/25\n",
      "\u001b[1m16/16\u001b[0m \u001b[32m━━━━━━━━━━━━━━━━━━━━\u001b[0m\u001b[37m\u001b[0m \u001b[1m0s\u001b[0m 14ms/step - accuracy: 0.9876 - loss: 0.1762\n"
     ]
    }
   ],
   "source": [
    "model_history = model.fit(x=X,\n",
    "                          y=y,\n",
    "                          batch_size=20,\n",
    "                          callbacks=[tensorflow.keras.callbacks.EarlyStopping(monitor='accuracy', patience=3)],\n",
    "                          epochs=25)"
   ]
  },
  {
   "cell_type": "code",
   "execution_count": 12,
   "metadata": {},
   "outputs": [
    {
     "name": "stdout",
     "output_type": "stream",
     "text": [
      "dict_keys(['accuracy', 'loss'])\n"
     ]
    },
    {
     "data": {
      "image/png": "[encoded data removed]",
      "text/plain": [
       "<Figure size 640x480 with 1 Axes>"
      ]
     },
     "metadata": {},
     "output_type": "display_data"
    }
   ],
   "source": [
    "# Accessing training history\n",
    "print(model_history.history.keys())\n",
    "\n",
    "# Plotting training history\n",
    "import matplotlib.pyplot as plt\n",
    "\n",
    "plt.plot(model_history.history['accuracy'])\n",
    "plt.plot(model_history.history['loss'])\n",
    "plt.title('Model Training History')\n",
    "plt.xlabel('Epoch')\n",
    "plt.legend(['Accuracy', 'Loss'], loc='upper right')\n",
    "plt.show()\n"
   ]
  },
  {
   "cell_type": "markdown",
   "metadata": {},
   "source": [
    "# Model Testing"
   ]
  },
  {
   "cell_type": "markdown",
   "metadata": {},
   "source": [
    "First we should apply some text preprocessing on the pattern that is passed to the function. Next we convert the text to vector of numbers and give it to model for prediction its tag; Finally based on the tag, we choose a answer(response) randomly and return it."
   ]
  },
  {
   "cell_type": "code",
   "execution_count": 13,
   "metadata": {
    "execution": {
     "iopub.execute_input": "2023-01-19T14:30:27.747198Z",
     "iopub.status.busy": "2023-01-19T14:30:27.746751Z",
     "iopub.status.idle": "2023-01-19T14:30:27.757329Z",
     "shell.execute_reply": "2023-01-19T14:30:27.755852Z",
     "shell.execute_reply.started": "2023-01-19T14:30:27.747164Z"
    }
   },
   "outputs": [],
   "source": [
    "import re\n",
    "import random\n",
    "\n",
    "def generate_answer(pattern): \n",
    "    text = []\n",
    "    txt = re.sub('[^a-zA-Z\\']', ' ', pattern)\n",
    "    txt = txt.lower()\n",
    "    txt = txt.split()\n",
    "    txt = \" \".join(txt)\n",
    "    text.append(txt)\n",
    "        \n",
    "    x_test = tokenizer.texts_to_sequences(text)\n",
    "    x_test = pad_sequences(x_test, padding='post', maxlen=X.shape[1])  # Remove unnecessary list wrapping\n",
    "    y_pred = model.predict(x_test)\n",
    "    y_pred = y_pred.argmax()\n",
    "    tag = lbl_enc.inverse_transform([y_pred])[0]\n",
    "    responses = df[df['tag'] == tag]['responses'].values[0]\n",
    "    print(\"you: {}\".format(pattern))\n",
    "    print(\"ChatPal: {}\".format(random.choice(responses)))\n"
   ]
  },
  {
   "cell_type": "code",
   "execution_count": 19,
   "metadata": {
    "execution": {
     "iopub.execute_input": "2023-01-19T14:30:33.389891Z",
     "iopub.status.busy": "2023-01-19T14:30:33.389416Z",
     "iopub.status.idle": "2023-01-19T14:30:33.465040Z",
     "shell.execute_reply": "2023-01-19T14:30:33.463625Z",
     "shell.execute_reply.started": "2023-01-19T14:30:33.389854Z"
    }
   },
   "outputs": [
    {
     "name": "stdout",
     "output_type": "stream",
     "text": [
      "\u001b[1m1/1\u001b[0m \u001b[32m━━━━━━━━━━━━━━━━━━━━\u001b[0m\u001b[37m\u001b[0m \u001b[1m0s\u001b[0m 22ms/step\n",
      "you: hello\n",
      "ChatPal: Hi there. What brings you here today?\n"
     ]
    }
   ],
   "source": [
    "generate_answer('hello')"
   ]
  },
  {
   "cell_type": "code",
   "execution_count": 18,
   "metadata": {},
   "outputs": [
    {
     "name": "stdout",
     "output_type": "stream",
     "text": [
      "\u001b[1m1/1\u001b[0m \u001b[32m━━━━━━━━━━━━━━━━━━━━\u001b[0m\u001b[37m\u001b[0m \u001b[1m0s\u001b[0m 25ms/step\n",
      "you:  i am depressed i find out that i am adopted and my biological family died  with cancer\n",
      "ChatPal: My condolences. I'm here if you need to talk.\n"
     ]
    }
   ],
   "source": [
    "generate_answer(' i am depressed i find out that i am adopted and my biological family died  with cancer')"
   ]
  },
  {
   "cell_type": "code",
   "execution_count": 22,
   "metadata": {},
   "outputs": [
    {
     "name": "stdout",
     "output_type": "stream",
     "text": [
      "\u001b[1m1/1\u001b[0m \u001b[32m━━━━━━━━━━━━━━━━━━━━\u001b[0m\u001b[37m\u001b[0m \u001b[1m0s\u001b[0m 24ms/step\n",
      "you: i dont want to die with cancer i want to suicide\n",
      "ChatPal: Next, I would suggest you to practice meditation. Meditation can produce a deep state of relaxation and a tranquil mind.\n"
     ]
    }
   ],
   "source": [
    "generate_answer('i dont want to die with cancer i want to suicide')"
   ]
  },
  {
   "cell_type": "code",
   "execution_count": 23,
   "metadata": {},
   "outputs": [
    {
     "name": "stdout",
     "output_type": "stream",
     "text": [
      "\u001b[1m1/1\u001b[0m \u001b[32m━━━━━━━━━━━━━━━━━━━━\u001b[0m\u001b[37m\u001b[0m \u001b[1m0s\u001b[0m 25ms/step\n",
      "you: what is depression\n",
      "ChatPal: Depression is a mental health disorder characterized by persistently depressed mood or loss of interest in activities, causing significant impairment in daily life.\n"
     ]
    }
   ],
   "source": [
    "generate_answer('what is depression')"
   ]
  },
  {
   "cell_type": "code",
   "execution_count": 24,
   "metadata": {},
   "outputs": [
    {
     "name": "stdout",
     "output_type": "stream",
     "text": [
      "\u001b[1m1/1\u001b[0m \u001b[32m━━━━━━━━━━━━━━━━━━━━\u001b[0m\u001b[37m\u001b[0m \u001b[1m0s\u001b[0m 26ms/step\n",
      "you: i have one\n",
      "ChatPal: That seem awful. What do you think is behind this?\n"
     ]
    }
   ],
   "source": [
    "generate_answer('i have one')"
   ]
  },
  {
   "cell_type": "code",
   "execution_count": 25,
   "metadata": {},
   "outputs": [
    {
     "name": "stdout",
     "output_type": "stream",
     "text": [
      "\u001b[1m1/1\u001b[0m \u001b[32m━━━━━━━━━━━━━━━━━━━━\u001b[0m\u001b[37m\u001b[0m \u001b[1m0s\u001b[0m 27ms/step\n",
      "you: pids code\n",
      "ChatPal: Sorry, I didn't understand you.\n"
     ]
    }
   ],
   "source": [
    "generate_answer('pids code')"
   ]
  },
  {
   "cell_type": "code",
   "execution_count": 27,
   "metadata": {},
   "outputs": [
    {
     "name": "stdout",
     "output_type": "stream",
     "text": [
      "\u001b[1m1/1\u001b[0m \u001b[32m━━━━━━━━━━━━━━━━━━━━\u001b[0m\u001b[37m\u001b[0m \u001b[1m0s\u001b[0m 27ms/step\n",
      "you: tell me more about the lung cancer\n",
      "ChatPal: Lung cancer is a type of cancer that originates in the lungs. It occurs when abnormal cells in the lung tissue begin to grow uncontrollably, forming tumors. These tumors can interfere with the normal function of the lungs, leading to symptoms and complications. There are two main types of lung cancer: non-small cell lung cancer and small cell lung cancer. Non-small cell lung cancer is more common and tends to grow and spread more slowly than small cell lung cancer.The primary cause of lung cancer is cigarette smoking, with smokers being at the highest risk. However, non-smokers can also develop lung cancer due to factors such as exposure to secondhand smoke, environmental pollutants like radon and asbestos, genetic predisposition, and occupational exposures.Symptoms of lung cancer may vary depending on the type, stage, and location of the cancer, but common signs include a persistent cough, chest pain, shortness of breath, coughing up blood, fatigue, unexplained weight loss, and recurrent respiratory infections.Early detection is key to improving outcomes for lung cancer patients. Treatment options include surgery, chemotherapy, radiation therapy, targeted therapy, and immunotherapy. The choice of treatment depends on factors such as the stage and type of cancer, as well as the patient's overall health and preferences.It's important to seek medical attention if you experience any symptoms or risk factors associated with lung cancer. Regular screenings may also be recommended for individuals at high risk, such as current or former smokers.If you have any further questions about lung cancer or need support, feel free to ask.\n"
     ]
    }
   ],
   "source": [
    "generate_answer('tell me more about the lung cancer')"
   ]
  },
  {
   "cell_type": "code",
   "execution_count": 29,
   "metadata": {},
   "outputs": [
    {
     "name": "stdout",
     "output_type": "stream",
     "text": [
      "\u001b[1m1/1\u001b[0m \u001b[32m━━━━━━━━━━━━━━━━━━━━\u001b[0m\u001b[37m\u001b[0m \u001b[1m0s\u001b[0m 29ms/step\n",
      "you: you are not helping me, you are useless\n",
      "ChatPal: I wish you wouldn't say such hurtful things. I'm sorry if I wasn't useful\n"
     ]
    }
   ],
   "source": [
    "generate_answer('you are not helping me, you are useless')"
   ]
  },
  {
   "cell_type": "code",
   "execution_count": 32,
   "metadata": {},
   "outputs": [
    {
     "name": "stdout",
     "output_type": "stream",
     "text": [
      "\u001b[1m1/1\u001b[0m \u001b[32m━━━━━━━━━━━━━━━━━━━━\u001b[0m\u001b[37m\u001b[0m \u001b[1m0s\u001b[0m 24ms/step\n",
      "you: who made you?\n",
      "ChatPal: I was trained on a text dataset using Deep Learning & Natural Language Processing techniques by Diagnox\n"
     ]
    }
   ],
   "source": [
    "generate_answer('who made you?')"
   ]
  },
  {
   "cell_type": "code",
   "execution_count": 38,
   "metadata": {},
   "outputs": [
    {
     "name": "stdout",
     "output_type": "stream",
     "text": [
      "\u001b[1m1/1\u001b[0m \u001b[32m━━━━━━━━━━━━━━━━━━━━\u001b[0m\u001b[37m\u001b[0m \u001b[1m0s\u001b[0m 29ms/step\n",
      "you: what is your name\n",
      "ChatPal: I'm ChatPal. I am a conversational agent designed to mimic a therapist. So how are you feeling today?\n"
     ]
    }
   ],
   "source": [
    "generate_answer('what is your name')"
   ]
  },
  {
   "cell_type": "code",
   "execution_count": 42,
   "metadata": {},
   "outputs": [
    {
     "name": "stdout",
     "output_type": "stream",
     "text": [
      "\u001b[1m1/1\u001b[0m \u001b[32m━━━━━━━━━━━━━━━━━━━━\u001b[0m\u001b[37m\u001b[0m \u001b[1m0s\u001b[0m 28ms/step\n",
      "you: i am not feeling good today\n",
      "ChatPal: Don't let the little worries bring you down. What's the worse that can happen?\n"
     ]
    }
   ],
   "source": [
    "generate_answer('i am not feeling good today')"
   ]
  },
  {
   "cell_type": "code",
   "execution_count": 43,
   "metadata": {},
   "outputs": [
    {
     "name": "stdout",
     "output_type": "stream",
     "text": [
      "\u001b[1m1/1\u001b[0m \u001b[32m━━━━━━━━━━━━━━━━━━━━\u001b[0m\u001b[37m\u001b[0m \u001b[1m0s\u001b[0m 27ms/step\n",
      "you: maybe i can die soon because i am sick\n",
      "ChatPal: Although ChatPal cannot substitute for professional advice, we encourage those with symptoms to talk to their friends and family members and seek the counsel of a mental health professional. The sooner the mental health condition is identified and treated, the sooner they can get on the path to recovery. If you know someone who is having problems, don't assume that the issue will resolve itself. Let them know that you care about them, and that there are treatment options available that will help them heal. Speak with a mental health professional or counselor if you think your friend or family member is experiencing the symptoms of a mental health condition. If the affected loved one knows that you support them, they will be more likely to seek out help.\n"
     ]
    }
   ],
   "source": [
    "generate_answer('maybe i can die soon because i am sick')"
   ]
  },
  {
   "cell_type": "code",
   "execution_count": 48,
   "metadata": {},
   "outputs": [
    {
     "name": "stdout",
     "output_type": "stream",
     "text": [
      "\u001b[1m1/1\u001b[0m \u001b[32m━━━━━━━━━━━━━━━━━━━━\u001b[0m\u001b[37m\u001b[0m \u001b[1m0s\u001b[0m 26ms/step\n",
      "you: i want to go to doctor\n",
      "ChatPal: I'm very sorry to hear that but you have so much to look forward to. Please seek help by contacting: +21650925051.\n"
     ]
    }
   ],
   "source": [
    "generate_answer('i want to go to doctor')"
   ]
  },
  {
   "cell_type": "code",
   "execution_count": 49,
   "metadata": {},
   "outputs": [
    {
     "name": "stdout",
     "output_type": "stream",
     "text": [
      "\u001b[1m1/1\u001b[0m \u001b[32m━━━━━━━━━━━━━━━━━━━━\u001b[0m\u001b[37m\u001b[0m \u001b[1m0s\u001b[0m 27ms/step\n",
      "you: thank you for help\n",
      "ChatPal: Happy to help!\n"
     ]
    }
   ],
   "source": [
    "generate_answer('thank you for help')"
   ]
  },
  {
   "cell_type": "code",
   "execution_count": 50,
   "metadata": {},
   "outputs": [
    {
     "name": "stdout",
     "output_type": "stream",
     "text": [
      "\u001b[1m1/1\u001b[0m \u001b[32m━━━━━━━━━━━━━━━━━━━━\u001b[0m\u001b[37m\u001b[0m \u001b[1m0s\u001b[0m 24ms/step\n",
      "you: good night bro!\n",
      "ChatPal: Good night. Sweet dreams.\n"
     ]
    }
   ],
   "source": [
    "generate_answer('good night bro!')"
   ]
  },
  {
   "cell_type": "code",
   "execution_count": 52,
   "metadata": {},
   "outputs": [
    {
     "name": "stdout",
     "output_type": "stream",
     "text": [
      "\u001b[1m1/1\u001b[0m \u001b[32m━━━━━━━━━━━━━━━━━━━━\u001b[0m\u001b[37m\u001b[0m \u001b[1m0s\u001b[0m 22ms/step\n",
      "you: what is mental illness\n",
      "ChatPal: Mental illnesses are health conditions that disrupt a person's thoughts, emotions, relationships, and daily functioning. They are associated with distress and diminished capacity to engage in the ordinary activities of daily life. Mental illnesses fall along a continuum of severity: some are fairly mild and only interfere with some aspects of life, such as certain phobias. On the other end of the spectrum lie serious mental illnesses, which result in major functional impairment and interference with daily life. These include such disorders as major depression, schizophrenia, and bipolar disorder, and may require that the person receives care in a hospital. It is important to know that mental illnesses are medical conditions that have nothing to do with a person's character, intelligence, or willpower. Just as diabetes is a disorder of the pancreas, mental illness is a medical condition due to the brain's biology. Similarly to how one would treat diabetes with medication and insulin, mental illness is treatable with a combination of medication and social support. These treatments are highly effective, with 70-90 percent of individuals receiving treatment experiencing a reduction in symptoms and an improved quality of life. With the proper treatment, it is very possible for a person with mental illness to be independent and successful.\n"
     ]
    }
   ],
   "source": [
    "generate_answer('what is mental illness')"
   ]
  }
 ],
 "metadata": {
  "kernelspec": {
   "display_name": "Python 3 (ipykernel)",
   "language": "python",
   "name": "python3"
  },
  "language_info": {
   "codemirror_mode": {
    "name": "ipython",
    "version": 3
   },
   "file_extension": ".py",
   "mimetype": "text/x-python",
   "name": "python",
   "nbconvert_exporter": "python",
   "pygments_lexer": "ipython3",
   "version": "3.11.5"
  }
 },
 "nbformat": 4,
 "nbformat_minor": 4
}
